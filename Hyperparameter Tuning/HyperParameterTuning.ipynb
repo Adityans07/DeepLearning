{
  "nbformat": 4,
  "nbformat_minor": 0,
  "metadata": {
    "colab": {
      "provenance": []
    },
    "kernelspec": {
      "name": "python3",
      "display_name": "Python 3"
    },
    "language_info": {
      "name": "python"
    },
    "accelerator": "TPU"
  },
  "cells": [
    {
      "cell_type": "code",
      "execution_count": 49,
      "metadata": {
        "id": "BQ-lzZuzZYmT"
      },
      "outputs": [],
      "source": [
        "import pandas as pd\n",
        "import numpy as np\n",
        "import matplotlib.pyplot as plt\n",
        "import seaborn as sns\n",
        "import tensorflow as tf\n",
        "from tensorflow import keras\n",
        "from keras import Sequential\n",
        "from keras.layers import Dense, Dropout"
      ]
    },
    {
      "cell_type": "code",
      "source": [
        "df = pd.read_csv(\"diabetes.csv\")\n",
        "pd.set_option(\"display.MAX_COLUMNS\", None)"
      ],
      "metadata": {
        "id": "91dCTzqnZ_G1"
      },
      "execution_count": 2,
      "outputs": []
    },
    {
      "cell_type": "code",
      "source": [
        "df.head()"
      ],
      "metadata": {
        "colab": {
          "base_uri": "https://localhost:8080/",
          "height": 206
        },
        "id": "aablNOtDaMH9",
        "outputId": "f32c9611-072f-4fca-a77f-73f90abf6b57"
      },
      "execution_count": 3,
      "outputs": [
        {
          "output_type": "execute_result",
          "data": {
            "text/plain": [
              "   Pregnancies  Glucose  BloodPressure  SkinThickness  Insulin   BMI  \\\n",
              "0            6      148             72             35        0  33.6   \n",
              "1            1       85             66             29        0  26.6   \n",
              "2            8      183             64              0        0  23.3   \n",
              "3            1       89             66             23       94  28.1   \n",
              "4            0      137             40             35      168  43.1   \n",
              "\n",
              "   DiabetesPedigreeFunction  Age  Outcome  \n",
              "0                     0.627   50        1  \n",
              "1                     0.351   31        0  \n",
              "2                     0.672   32        1  \n",
              "3                     0.167   21        0  \n",
              "4                     2.288   33        1  "
            ],
            "text/html": [
              "\n",
              "  <div id=\"df-63d16d48-9fe0-48ed-806b-c7e0d40d0bfc\" class=\"colab-df-container\">\n",
              "    <div>\n",
              "<style scoped>\n",
              "    .dataframe tbody tr th:only-of-type {\n",
              "        vertical-align: middle;\n",
              "    }\n",
              "\n",
              "    .dataframe tbody tr th {\n",
              "        vertical-align: top;\n",
              "    }\n",
              "\n",
              "    .dataframe thead th {\n",
              "        text-align: right;\n",
              "    }\n",
              "</style>\n",
              "<table border=\"1\" class=\"dataframe\">\n",
              "  <thead>\n",
              "    <tr style=\"text-align: right;\">\n",
              "      <th></th>\n",
              "      <th>Pregnancies</th>\n",
              "      <th>Glucose</th>\n",
              "      <th>BloodPressure</th>\n",
              "      <th>SkinThickness</th>\n",
              "      <th>Insulin</th>\n",
              "      <th>BMI</th>\n",
              "      <th>DiabetesPedigreeFunction</th>\n",
              "      <th>Age</th>\n",
              "      <th>Outcome</th>\n",
              "    </tr>\n",
              "  </thead>\n",
              "  <tbody>\n",
              "    <tr>\n",
              "      <th>0</th>\n",
              "      <td>6</td>\n",
              "      <td>148</td>\n",
              "      <td>72</td>\n",
              "      <td>35</td>\n",
              "      <td>0</td>\n",
              "      <td>33.6</td>\n",
              "      <td>0.627</td>\n",
              "      <td>50</td>\n",
              "      <td>1</td>\n",
              "    </tr>\n",
              "    <tr>\n",
              "      <th>1</th>\n",
              "      <td>1</td>\n",
              "      <td>85</td>\n",
              "      <td>66</td>\n",
              "      <td>29</td>\n",
              "      <td>0</td>\n",
              "      <td>26.6</td>\n",
              "      <td>0.351</td>\n",
              "      <td>31</td>\n",
              "      <td>0</td>\n",
              "    </tr>\n",
              "    <tr>\n",
              "      <th>2</th>\n",
              "      <td>8</td>\n",
              "      <td>183</td>\n",
              "      <td>64</td>\n",
              "      <td>0</td>\n",
              "      <td>0</td>\n",
              "      <td>23.3</td>\n",
              "      <td>0.672</td>\n",
              "      <td>32</td>\n",
              "      <td>1</td>\n",
              "    </tr>\n",
              "    <tr>\n",
              "      <th>3</th>\n",
              "      <td>1</td>\n",
              "      <td>89</td>\n",
              "      <td>66</td>\n",
              "      <td>23</td>\n",
              "      <td>94</td>\n",
              "      <td>28.1</td>\n",
              "      <td>0.167</td>\n",
              "      <td>21</td>\n",
              "      <td>0</td>\n",
              "    </tr>\n",
              "    <tr>\n",
              "      <th>4</th>\n",
              "      <td>0</td>\n",
              "      <td>137</td>\n",
              "      <td>40</td>\n",
              "      <td>35</td>\n",
              "      <td>168</td>\n",
              "      <td>43.1</td>\n",
              "      <td>2.288</td>\n",
              "      <td>33</td>\n",
              "      <td>1</td>\n",
              "    </tr>\n",
              "  </tbody>\n",
              "</table>\n",
              "</div>\n",
              "    <div class=\"colab-df-buttons\">\n",
              "\n",
              "  <div class=\"colab-df-container\">\n",
              "    <button class=\"colab-df-convert\" onclick=\"convertToInteractive('df-63d16d48-9fe0-48ed-806b-c7e0d40d0bfc')\"\n",
              "            title=\"Convert this dataframe to an interactive table.\"\n",
              "            style=\"display:none;\">\n",
              "\n",
              "  <svg xmlns=\"http://www.w3.org/2000/svg\" height=\"24px\" viewBox=\"0 -960 960 960\">\n",
              "    <path d=\"M120-120v-720h720v720H120Zm60-500h600v-160H180v160Zm220 220h160v-160H400v160Zm0 220h160v-160H400v160ZM180-400h160v-160H180v160Zm440 0h160v-160H620v160ZM180-180h160v-160H180v160Zm440 0h160v-160H620v160Z\"/>\n",
              "  </svg>\n",
              "    </button>\n",
              "\n",
              "  <style>\n",
              "    .colab-df-container {\n",
              "      display:flex;\n",
              "      gap: 12px;\n",
              "    }\n",
              "\n",
              "    .colab-df-convert {\n",
              "      background-color: #E8F0FE;\n",
              "      border: none;\n",
              "      border-radius: 50%;\n",
              "      cursor: pointer;\n",
              "      display: none;\n",
              "      fill: #1967D2;\n",
              "      height: 32px;\n",
              "      padding: 0 0 0 0;\n",
              "      width: 32px;\n",
              "    }\n",
              "\n",
              "    .colab-df-convert:hover {\n",
              "      background-color: #E2EBFA;\n",
              "      box-shadow: 0px 1px 2px rgba(60, 64, 67, 0.3), 0px 1px 3px 1px rgba(60, 64, 67, 0.15);\n",
              "      fill: #174EA6;\n",
              "    }\n",
              "\n",
              "    .colab-df-buttons div {\n",
              "      margin-bottom: 4px;\n",
              "    }\n",
              "\n",
              "    [theme=dark] .colab-df-convert {\n",
              "      background-color: #3B4455;\n",
              "      fill: #D2E3FC;\n",
              "    }\n",
              "\n",
              "    [theme=dark] .colab-df-convert:hover {\n",
              "      background-color: #434B5C;\n",
              "      box-shadow: 0px 1px 3px 1px rgba(0, 0, 0, 0.15);\n",
              "      filter: drop-shadow(0px 1px 2px rgba(0, 0, 0, 0.3));\n",
              "      fill: #FFFFFF;\n",
              "    }\n",
              "  </style>\n",
              "\n",
              "    <script>\n",
              "      const buttonEl =\n",
              "        document.querySelector('#df-63d16d48-9fe0-48ed-806b-c7e0d40d0bfc button.colab-df-convert');\n",
              "      buttonEl.style.display =\n",
              "        google.colab.kernel.accessAllowed ? 'block' : 'none';\n",
              "\n",
              "      async function convertToInteractive(key) {\n",
              "        const element = document.querySelector('#df-63d16d48-9fe0-48ed-806b-c7e0d40d0bfc');\n",
              "        const dataTable =\n",
              "          await google.colab.kernel.invokeFunction('convertToInteractive',\n",
              "                                                    [key], {});\n",
              "        if (!dataTable) return;\n",
              "\n",
              "        const docLinkHtml = 'Like what you see? Visit the ' +\n",
              "          '<a target=\"_blank\" href=https://colab.research.google.com/notebooks/data_table.ipynb>data table notebook</a>'\n",
              "          + ' to learn more about interactive tables.';\n",
              "        element.innerHTML = '';\n",
              "        dataTable['output_type'] = 'display_data';\n",
              "        await google.colab.output.renderOutput(dataTable, element);\n",
              "        const docLink = document.createElement('div');\n",
              "        docLink.innerHTML = docLinkHtml;\n",
              "        element.appendChild(docLink);\n",
              "      }\n",
              "    </script>\n",
              "  </div>\n",
              "\n",
              "\n",
              "<div id=\"df-6b7fe5f5-f550-49b4-90ef-3e4c002a6341\">\n",
              "  <button class=\"colab-df-quickchart\" onclick=\"quickchart('df-6b7fe5f5-f550-49b4-90ef-3e4c002a6341')\"\n",
              "            title=\"Suggest charts.\"\n",
              "            style=\"display:none;\">\n",
              "\n",
              "<svg xmlns=\"http://www.w3.org/2000/svg\" height=\"24px\"viewBox=\"0 0 24 24\"\n",
              "     width=\"24px\">\n",
              "    <g>\n",
              "        <path d=\"M19 3H5c-1.1 0-2 .9-2 2v14c0 1.1.9 2 2 2h14c1.1 0 2-.9 2-2V5c0-1.1-.9-2-2-2zM9 17H7v-7h2v7zm4 0h-2V7h2v10zm4 0h-2v-4h2v4z\"/>\n",
              "    </g>\n",
              "</svg>\n",
              "  </button>\n",
              "\n",
              "<style>\n",
              "  .colab-df-quickchart {\n",
              "      --bg-color: #E8F0FE;\n",
              "      --fill-color: #1967D2;\n",
              "      --hover-bg-color: #E2EBFA;\n",
              "      --hover-fill-color: #174EA6;\n",
              "      --disabled-fill-color: #AAA;\n",
              "      --disabled-bg-color: #DDD;\n",
              "  }\n",
              "\n",
              "  [theme=dark] .colab-df-quickchart {\n",
              "      --bg-color: #3B4455;\n",
              "      --fill-color: #D2E3FC;\n",
              "      --hover-bg-color: #434B5C;\n",
              "      --hover-fill-color: #FFFFFF;\n",
              "      --disabled-bg-color: #3B4455;\n",
              "      --disabled-fill-color: #666;\n",
              "  }\n",
              "\n",
              "  .colab-df-quickchart {\n",
              "    background-color: var(--bg-color);\n",
              "    border: none;\n",
              "    border-radius: 50%;\n",
              "    cursor: pointer;\n",
              "    display: none;\n",
              "    fill: var(--fill-color);\n",
              "    height: 32px;\n",
              "    padding: 0;\n",
              "    width: 32px;\n",
              "  }\n",
              "\n",
              "  .colab-df-quickchart:hover {\n",
              "    background-color: var(--hover-bg-color);\n",
              "    box-shadow: 0 1px 2px rgba(60, 64, 67, 0.3), 0 1px 3px 1px rgba(60, 64, 67, 0.15);\n",
              "    fill: var(--button-hover-fill-color);\n",
              "  }\n",
              "\n",
              "  .colab-df-quickchart-complete:disabled,\n",
              "  .colab-df-quickchart-complete:disabled:hover {\n",
              "    background-color: var(--disabled-bg-color);\n",
              "    fill: var(--disabled-fill-color);\n",
              "    box-shadow: none;\n",
              "  }\n",
              "\n",
              "  .colab-df-spinner {\n",
              "    border: 2px solid var(--fill-color);\n",
              "    border-color: transparent;\n",
              "    border-bottom-color: var(--fill-color);\n",
              "    animation:\n",
              "      spin 1s steps(1) infinite;\n",
              "  }\n",
              "\n",
              "  @keyframes spin {\n",
              "    0% {\n",
              "      border-color: transparent;\n",
              "      border-bottom-color: var(--fill-color);\n",
              "      border-left-color: var(--fill-color);\n",
              "    }\n",
              "    20% {\n",
              "      border-color: transparent;\n",
              "      border-left-color: var(--fill-color);\n",
              "      border-top-color: var(--fill-color);\n",
              "    }\n",
              "    30% {\n",
              "      border-color: transparent;\n",
              "      border-left-color: var(--fill-color);\n",
              "      border-top-color: var(--fill-color);\n",
              "      border-right-color: var(--fill-color);\n",
              "    }\n",
              "    40% {\n",
              "      border-color: transparent;\n",
              "      border-right-color: var(--fill-color);\n",
              "      border-top-color: var(--fill-color);\n",
              "    }\n",
              "    60% {\n",
              "      border-color: transparent;\n",
              "      border-right-color: var(--fill-color);\n",
              "    }\n",
              "    80% {\n",
              "      border-color: transparent;\n",
              "      border-right-color: var(--fill-color);\n",
              "      border-bottom-color: var(--fill-color);\n",
              "    }\n",
              "    90% {\n",
              "      border-color: transparent;\n",
              "      border-bottom-color: var(--fill-color);\n",
              "    }\n",
              "  }\n",
              "</style>\n",
              "\n",
              "  <script>\n",
              "    async function quickchart(key) {\n",
              "      const quickchartButtonEl =\n",
              "        document.querySelector('#' + key + ' button');\n",
              "      quickchartButtonEl.disabled = true;  // To prevent multiple clicks.\n",
              "      quickchartButtonEl.classList.add('colab-df-spinner');\n",
              "      try {\n",
              "        const charts = await google.colab.kernel.invokeFunction(\n",
              "            'suggestCharts', [key], {});\n",
              "      } catch (error) {\n",
              "        console.error('Error during call to suggestCharts:', error);\n",
              "      }\n",
              "      quickchartButtonEl.classList.remove('colab-df-spinner');\n",
              "      quickchartButtonEl.classList.add('colab-df-quickchart-complete');\n",
              "    }\n",
              "    (() => {\n",
              "      let quickchartButtonEl =\n",
              "        document.querySelector('#df-6b7fe5f5-f550-49b4-90ef-3e4c002a6341 button');\n",
              "      quickchartButtonEl.style.display =\n",
              "        google.colab.kernel.accessAllowed ? 'block' : 'none';\n",
              "    })();\n",
              "  </script>\n",
              "</div>\n",
              "    </div>\n",
              "  </div>\n"
            ]
          },
          "metadata": {},
          "execution_count": 3
        }
      ]
    },
    {
      "cell_type": "code",
      "source": [
        "df.corr()[\"Outcome\"]"
      ],
      "metadata": {
        "colab": {
          "base_uri": "https://localhost:8080/"
        },
        "id": "Qv8iU0bPaPlI",
        "outputId": "0d2f789c-699a-4655-e2a1-c12bc1686ae6"
      },
      "execution_count": 4,
      "outputs": [
        {
          "output_type": "execute_result",
          "data": {
            "text/plain": [
              "Pregnancies                 0.221898\n",
              "Glucose                     0.466581\n",
              "BloodPressure               0.065068\n",
              "SkinThickness               0.074752\n",
              "Insulin                     0.130548\n",
              "BMI                         0.292695\n",
              "DiabetesPedigreeFunction    0.173844\n",
              "Age                         0.238356\n",
              "Outcome                     1.000000\n",
              "Name: Outcome, dtype: float64"
            ]
          },
          "metadata": {},
          "execution_count": 4
        }
      ]
    },
    {
      "cell_type": "code",
      "source": [
        "X = df.iloc[:,:-1].values\n",
        "Y = df.iloc[:,-1].values"
      ],
      "metadata": {
        "id": "_wF5rRVGaVZV"
      },
      "execution_count": 5,
      "outputs": []
    },
    {
      "cell_type": "code",
      "source": [
        "from sklearn.preprocessing import StandardScaler\n",
        "sc = StandardScaler()"
      ],
      "metadata": {
        "id": "nfGonyCEcor1"
      },
      "execution_count": 6,
      "outputs": []
    },
    {
      "cell_type": "code",
      "source": [
        "X_scaled = sc.fit_transform(X)"
      ],
      "metadata": {
        "id": "cN_YS-Adczuk"
      },
      "execution_count": 7,
      "outputs": []
    },
    {
      "cell_type": "code",
      "source": [
        "\n",
        "\n",
        "X_scaled.shape"
      ],
      "metadata": {
        "colab": {
          "base_uri": "https://localhost:8080/"
        },
        "id": "xfEkRP5sfpqs",
        "outputId": "227edd89-52a6-43ba-e7ee-48e8c46826e7"
      },
      "execution_count": 8,
      "outputs": [
        {
          "output_type": "execute_result",
          "data": {
            "text/plain": [
              "(768, 8)"
            ]
          },
          "metadata": {},
          "execution_count": 8
        }
      ]
    },
    {
      "cell_type": "code",
      "source": [
        "from sklearn.model_selection import train_test_split\n",
        "X_train, X_test, Y_train, Y_test = train_test_split(X_scaled, Y, test_size = 0.2, random_state = 2)"
      ],
      "metadata": {
        "id": "i0aTi4NSc6dN"
      },
      "execution_count": 9,
      "outputs": []
    },
    {
      "cell_type": "code",
      "source": [
        "X_train.shape"
      ],
      "metadata": {
        "colab": {
          "base_uri": "https://localhost:8080/"
        },
        "id": "fTM3RXz5fr7l",
        "outputId": "d46ef8e6-1bf4-413a-eac6-3bb080f01a6f"
      },
      "execution_count": 10,
      "outputs": [
        {
          "output_type": "execute_result",
          "data": {
            "text/plain": [
              "(614, 8)"
            ]
          },
          "metadata": {},
          "execution_count": 10
        }
      ]
    },
    {
      "cell_type": "code",
      "source": [
        "model = Sequential()"
      ],
      "metadata": {
        "id": "m-PaTwOmdjgO"
      },
      "execution_count": 11,
      "outputs": []
    },
    {
      "cell_type": "code",
      "source": [
        "model.add(Dense(32, activation =\"relu\", input_dim = 8))\n",
        "model.add(Dense(16, activation = \"relu\"))\n",
        "model.add(Dense(1, activation = \"sigmoid\"))"
      ],
      "metadata": {
        "id": "GXUmiZPhdsJL"
      },
      "execution_count": 12,
      "outputs": []
    },
    {
      "cell_type": "code",
      "source": [
        "model.compile(optimizer = \"Adam\", metrics = [\"accuracy\"], loss = \"binary_crossentropy\")"
      ],
      "metadata": {
        "id": "voFfccipeCfV"
      },
      "execution_count": 13,
      "outputs": []
    },
    {
      "cell_type": "code",
      "source": [
        "history = model.fit( X_train, Y_train, batch_size = 32,epochs = 100, validation_data = (X_test, Y_test))"
      ],
      "metadata": {
        "colab": {
          "base_uri": "https://localhost:8080/"
        },
        "id": "UfwOok68eXlW",
        "outputId": "1c9c2775-418e-49bc-84a4-d03f42b17315"
      },
      "execution_count": 14,
      "outputs": [
        {
          "output_type": "stream",
          "name": "stdout",
          "text": [
            "Epoch 1/100\n",
            "20/20 [==============================] - 2s 15ms/step - loss: 0.6874 - accuracy: 0.6352 - val_loss: 0.6068 - val_accuracy: 0.6948\n",
            "Epoch 2/100\n",
            "20/20 [==============================] - 0s 5ms/step - loss: 0.6155 - accuracy: 0.6531 - val_loss: 0.5656 - val_accuracy: 0.7143\n",
            "Epoch 3/100\n",
            "20/20 [==============================] - 0s 4ms/step - loss: 0.5686 - accuracy: 0.6906 - val_loss: 0.5371 - val_accuracy: 0.7403\n",
            "Epoch 4/100\n",
            "20/20 [==============================] - 0s 4ms/step - loss: 0.5344 - accuracy: 0.7215 - val_loss: 0.5125 - val_accuracy: 0.7662\n",
            "Epoch 5/100\n",
            "20/20 [==============================] - 0s 4ms/step - loss: 0.5093 - accuracy: 0.7329 - val_loss: 0.4969 - val_accuracy: 0.7468\n",
            "Epoch 6/100\n",
            "20/20 [==============================] - 0s 4ms/step - loss: 0.4918 - accuracy: 0.7443 - val_loss: 0.4900 - val_accuracy: 0.7468\n",
            "Epoch 7/100\n",
            "20/20 [==============================] - 0s 4ms/step - loss: 0.4789 - accuracy: 0.7573 - val_loss: 0.4842 - val_accuracy: 0.7532\n",
            "Epoch 8/100\n",
            "20/20 [==============================] - 0s 4ms/step - loss: 0.4686 - accuracy: 0.7655 - val_loss: 0.4809 - val_accuracy: 0.7468\n",
            "Epoch 9/100\n",
            "20/20 [==============================] - 0s 4ms/step - loss: 0.4605 - accuracy: 0.7655 - val_loss: 0.4757 - val_accuracy: 0.7532\n",
            "Epoch 10/100\n",
            "20/20 [==============================] - 0s 4ms/step - loss: 0.4541 - accuracy: 0.7720 - val_loss: 0.4730 - val_accuracy: 0.7468\n",
            "Epoch 11/100\n",
            "20/20 [==============================] - 0s 4ms/step - loss: 0.4487 - accuracy: 0.7769 - val_loss: 0.4714 - val_accuracy: 0.7468\n",
            "Epoch 12/100\n",
            "20/20 [==============================] - 0s 4ms/step - loss: 0.4458 - accuracy: 0.7752 - val_loss: 0.4701 - val_accuracy: 0.7532\n",
            "Epoch 13/100\n",
            "20/20 [==============================] - 0s 4ms/step - loss: 0.4406 - accuracy: 0.7769 - val_loss: 0.4721 - val_accuracy: 0.7403\n",
            "Epoch 14/100\n",
            "20/20 [==============================] - 0s 4ms/step - loss: 0.4386 - accuracy: 0.7785 - val_loss: 0.4702 - val_accuracy: 0.7468\n",
            "Epoch 15/100\n",
            "20/20 [==============================] - 0s 4ms/step - loss: 0.4357 - accuracy: 0.7850 - val_loss: 0.4728 - val_accuracy: 0.7532\n",
            "Epoch 16/100\n",
            "20/20 [==============================] - 0s 4ms/step - loss: 0.4339 - accuracy: 0.7834 - val_loss: 0.4719 - val_accuracy: 0.7532\n",
            "Epoch 17/100\n",
            "20/20 [==============================] - 0s 4ms/step - loss: 0.4309 - accuracy: 0.7850 - val_loss: 0.4684 - val_accuracy: 0.7597\n",
            "Epoch 18/100\n",
            "20/20 [==============================] - 0s 4ms/step - loss: 0.4308 - accuracy: 0.7866 - val_loss: 0.4676 - val_accuracy: 0.7662\n",
            "Epoch 19/100\n",
            "20/20 [==============================] - 0s 4ms/step - loss: 0.4296 - accuracy: 0.7834 - val_loss: 0.4688 - val_accuracy: 0.7597\n",
            "Epoch 20/100\n",
            "20/20 [==============================] - 0s 4ms/step - loss: 0.4279 - accuracy: 0.7932 - val_loss: 0.4742 - val_accuracy: 0.7468\n",
            "Epoch 21/100\n",
            "20/20 [==============================] - 0s 4ms/step - loss: 0.4266 - accuracy: 0.7932 - val_loss: 0.4704 - val_accuracy: 0.7597\n",
            "Epoch 22/100\n",
            "20/20 [==============================] - 0s 5ms/step - loss: 0.4246 - accuracy: 0.7915 - val_loss: 0.4701 - val_accuracy: 0.7597\n",
            "Epoch 23/100\n",
            "20/20 [==============================] - 0s 4ms/step - loss: 0.4235 - accuracy: 0.7915 - val_loss: 0.4682 - val_accuracy: 0.7597\n",
            "Epoch 24/100\n",
            "20/20 [==============================] - 0s 3ms/step - loss: 0.4226 - accuracy: 0.7915 - val_loss: 0.4678 - val_accuracy: 0.7727\n",
            "Epoch 25/100\n",
            "20/20 [==============================] - 0s 3ms/step - loss: 0.4211 - accuracy: 0.7948 - val_loss: 0.4677 - val_accuracy: 0.7662\n",
            "Epoch 26/100\n",
            "20/20 [==============================] - 0s 3ms/step - loss: 0.4197 - accuracy: 0.7899 - val_loss: 0.4657 - val_accuracy: 0.7727\n",
            "Epoch 27/100\n",
            "20/20 [==============================] - 0s 4ms/step - loss: 0.4178 - accuracy: 0.7932 - val_loss: 0.4678 - val_accuracy: 0.7597\n",
            "Epoch 28/100\n",
            "20/20 [==============================] - 0s 4ms/step - loss: 0.4169 - accuracy: 0.7980 - val_loss: 0.4633 - val_accuracy: 0.7727\n",
            "Epoch 29/100\n",
            "20/20 [==============================] - 0s 4ms/step - loss: 0.4162 - accuracy: 0.7932 - val_loss: 0.4642 - val_accuracy: 0.7662\n",
            "Epoch 30/100\n",
            "20/20 [==============================] - 0s 4ms/step - loss: 0.4160 - accuracy: 0.7948 - val_loss: 0.4642 - val_accuracy: 0.7597\n",
            "Epoch 31/100\n",
            "20/20 [==============================] - 0s 7ms/step - loss: 0.4136 - accuracy: 0.7997 - val_loss: 0.4649 - val_accuracy: 0.7597\n",
            "Epoch 32/100\n",
            "20/20 [==============================] - 0s 4ms/step - loss: 0.4116 - accuracy: 0.7980 - val_loss: 0.4650 - val_accuracy: 0.7532\n",
            "Epoch 33/100\n",
            "20/20 [==============================] - 0s 4ms/step - loss: 0.4104 - accuracy: 0.7980 - val_loss: 0.4637 - val_accuracy: 0.7597\n",
            "Epoch 34/100\n",
            "20/20 [==============================] - 0s 4ms/step - loss: 0.4094 - accuracy: 0.7997 - val_loss: 0.4649 - val_accuracy: 0.7532\n",
            "Epoch 35/100\n",
            "20/20 [==============================] - 0s 4ms/step - loss: 0.4075 - accuracy: 0.8013 - val_loss: 0.4615 - val_accuracy: 0.7727\n",
            "Epoch 36/100\n",
            "20/20 [==============================] - 0s 4ms/step - loss: 0.4072 - accuracy: 0.8013 - val_loss: 0.4592 - val_accuracy: 0.7792\n",
            "Epoch 37/100\n",
            "20/20 [==============================] - 0s 4ms/step - loss: 0.4058 - accuracy: 0.8029 - val_loss: 0.4632 - val_accuracy: 0.7727\n",
            "Epoch 38/100\n",
            "20/20 [==============================] - 0s 4ms/step - loss: 0.4045 - accuracy: 0.7932 - val_loss: 0.4629 - val_accuracy: 0.7662\n",
            "Epoch 39/100\n",
            "20/20 [==============================] - 0s 4ms/step - loss: 0.4029 - accuracy: 0.7997 - val_loss: 0.4642 - val_accuracy: 0.7597\n",
            "Epoch 40/100\n",
            "20/20 [==============================] - 0s 5ms/step - loss: 0.4026 - accuracy: 0.7997 - val_loss: 0.4650 - val_accuracy: 0.7727\n",
            "Epoch 41/100\n",
            "20/20 [==============================] - 0s 4ms/step - loss: 0.4017 - accuracy: 0.7980 - val_loss: 0.4683 - val_accuracy: 0.7662\n",
            "Epoch 42/100\n",
            "20/20 [==============================] - 0s 5ms/step - loss: 0.4004 - accuracy: 0.7997 - val_loss: 0.4638 - val_accuracy: 0.7662\n",
            "Epoch 43/100\n",
            "20/20 [==============================] - 0s 3ms/step - loss: 0.3990 - accuracy: 0.7997 - val_loss: 0.4647 - val_accuracy: 0.7597\n",
            "Epoch 44/100\n",
            "20/20 [==============================] - 0s 4ms/step - loss: 0.3989 - accuracy: 0.8013 - val_loss: 0.4667 - val_accuracy: 0.7597\n",
            "Epoch 45/100\n",
            "20/20 [==============================] - 0s 4ms/step - loss: 0.3973 - accuracy: 0.8029 - val_loss: 0.4629 - val_accuracy: 0.7597\n",
            "Epoch 46/100\n",
            "20/20 [==============================] - 0s 3ms/step - loss: 0.3957 - accuracy: 0.8013 - val_loss: 0.4649 - val_accuracy: 0.7662\n",
            "Epoch 47/100\n",
            "20/20 [==============================] - 0s 4ms/step - loss: 0.3940 - accuracy: 0.8111 - val_loss: 0.4665 - val_accuracy: 0.7597\n",
            "Epoch 48/100\n",
            "20/20 [==============================] - 0s 4ms/step - loss: 0.3938 - accuracy: 0.8111 - val_loss: 0.4685 - val_accuracy: 0.7662\n",
            "Epoch 49/100\n",
            "20/20 [==============================] - 0s 3ms/step - loss: 0.3934 - accuracy: 0.8062 - val_loss: 0.4664 - val_accuracy: 0.7597\n",
            "Epoch 50/100\n",
            "20/20 [==============================] - 0s 4ms/step - loss: 0.3918 - accuracy: 0.8078 - val_loss: 0.4679 - val_accuracy: 0.7597\n",
            "Epoch 51/100\n",
            "20/20 [==============================] - 0s 4ms/step - loss: 0.3908 - accuracy: 0.8111 - val_loss: 0.4684 - val_accuracy: 0.7662\n",
            "Epoch 52/100\n",
            "20/20 [==============================] - 0s 4ms/step - loss: 0.3911 - accuracy: 0.8078 - val_loss: 0.4684 - val_accuracy: 0.7662\n",
            "Epoch 53/100\n",
            "20/20 [==============================] - 0s 4ms/step - loss: 0.3899 - accuracy: 0.8111 - val_loss: 0.4708 - val_accuracy: 0.7597\n",
            "Epoch 54/100\n",
            "20/20 [==============================] - 0s 4ms/step - loss: 0.3882 - accuracy: 0.8143 - val_loss: 0.4662 - val_accuracy: 0.7597\n",
            "Epoch 55/100\n",
            "20/20 [==============================] - 0s 4ms/step - loss: 0.3880 - accuracy: 0.8127 - val_loss: 0.4703 - val_accuracy: 0.7727\n",
            "Epoch 56/100\n",
            "20/20 [==============================] - 0s 4ms/step - loss: 0.3861 - accuracy: 0.8094 - val_loss: 0.4721 - val_accuracy: 0.7727\n",
            "Epoch 57/100\n",
            "20/20 [==============================] - 0s 4ms/step - loss: 0.3858 - accuracy: 0.8046 - val_loss: 0.4734 - val_accuracy: 0.7727\n",
            "Epoch 58/100\n",
            "20/20 [==============================] - 0s 4ms/step - loss: 0.3862 - accuracy: 0.8078 - val_loss: 0.4711 - val_accuracy: 0.7727\n",
            "Epoch 59/100\n",
            "20/20 [==============================] - 0s 5ms/step - loss: 0.3836 - accuracy: 0.8111 - val_loss: 0.4744 - val_accuracy: 0.7662\n",
            "Epoch 60/100\n",
            "20/20 [==============================] - 0s 4ms/step - loss: 0.3847 - accuracy: 0.8094 - val_loss: 0.4775 - val_accuracy: 0.7727\n",
            "Epoch 61/100\n",
            "20/20 [==============================] - 0s 4ms/step - loss: 0.3824 - accuracy: 0.8094 - val_loss: 0.4752 - val_accuracy: 0.7727\n",
            "Epoch 62/100\n",
            "20/20 [==============================] - 0s 4ms/step - loss: 0.3818 - accuracy: 0.8127 - val_loss: 0.4748 - val_accuracy: 0.7662\n",
            "Epoch 63/100\n",
            "20/20 [==============================] - 0s 4ms/step - loss: 0.3810 - accuracy: 0.8094 - val_loss: 0.4770 - val_accuracy: 0.7662\n",
            "Epoch 64/100\n",
            "20/20 [==============================] - 0s 4ms/step - loss: 0.3801 - accuracy: 0.8143 - val_loss: 0.4739 - val_accuracy: 0.7727\n",
            "Epoch 65/100\n",
            "20/20 [==============================] - 0s 5ms/step - loss: 0.3789 - accuracy: 0.8127 - val_loss: 0.4753 - val_accuracy: 0.7662\n",
            "Epoch 66/100\n",
            "20/20 [==============================] - 0s 4ms/step - loss: 0.3781 - accuracy: 0.8111 - val_loss: 0.4737 - val_accuracy: 0.7532\n",
            "Epoch 67/100\n",
            "20/20 [==============================] - 0s 4ms/step - loss: 0.3779 - accuracy: 0.8160 - val_loss: 0.4768 - val_accuracy: 0.7662\n",
            "Epoch 68/100\n",
            "20/20 [==============================] - 0s 4ms/step - loss: 0.3765 - accuracy: 0.8111 - val_loss: 0.4788 - val_accuracy: 0.7662\n",
            "Epoch 69/100\n",
            "20/20 [==============================] - 0s 4ms/step - loss: 0.3766 - accuracy: 0.8176 - val_loss: 0.4774 - val_accuracy: 0.7662\n",
            "Epoch 70/100\n",
            "20/20 [==============================] - 0s 4ms/step - loss: 0.3768 - accuracy: 0.8143 - val_loss: 0.4739 - val_accuracy: 0.7727\n",
            "Epoch 71/100\n",
            "20/20 [==============================] - 0s 4ms/step - loss: 0.3752 - accuracy: 0.8143 - val_loss: 0.4763 - val_accuracy: 0.7727\n",
            "Epoch 72/100\n",
            "20/20 [==============================] - 0s 4ms/step - loss: 0.3730 - accuracy: 0.8127 - val_loss: 0.4771 - val_accuracy: 0.7727\n",
            "Epoch 73/100\n",
            "20/20 [==============================] - 0s 4ms/step - loss: 0.3724 - accuracy: 0.8192 - val_loss: 0.4780 - val_accuracy: 0.7792\n",
            "Epoch 74/100\n",
            "20/20 [==============================] - 0s 4ms/step - loss: 0.3711 - accuracy: 0.8192 - val_loss: 0.4767 - val_accuracy: 0.7727\n",
            "Epoch 75/100\n",
            "20/20 [==============================] - 0s 4ms/step - loss: 0.3714 - accuracy: 0.8176 - val_loss: 0.4761 - val_accuracy: 0.7727\n",
            "Epoch 76/100\n",
            "20/20 [==============================] - 0s 4ms/step - loss: 0.3721 - accuracy: 0.8225 - val_loss: 0.4797 - val_accuracy: 0.7727\n",
            "Epoch 77/100\n",
            "20/20 [==============================] - 0s 4ms/step - loss: 0.3702 - accuracy: 0.8176 - val_loss: 0.4775 - val_accuracy: 0.7727\n",
            "Epoch 78/100\n",
            "20/20 [==============================] - 0s 5ms/step - loss: 0.3678 - accuracy: 0.8241 - val_loss: 0.4794 - val_accuracy: 0.7662\n",
            "Epoch 79/100\n",
            "20/20 [==============================] - 0s 5ms/step - loss: 0.3665 - accuracy: 0.8241 - val_loss: 0.4789 - val_accuracy: 0.7727\n",
            "Epoch 80/100\n",
            "20/20 [==============================] - 0s 4ms/step - loss: 0.3658 - accuracy: 0.8208 - val_loss: 0.4817 - val_accuracy: 0.7727\n",
            "Epoch 81/100\n",
            "20/20 [==============================] - 0s 4ms/step - loss: 0.3657 - accuracy: 0.8208 - val_loss: 0.4805 - val_accuracy: 0.7662\n",
            "Epoch 82/100\n",
            "20/20 [==============================] - 0s 4ms/step - loss: 0.3653 - accuracy: 0.8274 - val_loss: 0.4813 - val_accuracy: 0.7662\n",
            "Epoch 83/100\n",
            "20/20 [==============================] - 0s 4ms/step - loss: 0.3640 - accuracy: 0.8274 - val_loss: 0.4800 - val_accuracy: 0.7857\n",
            "Epoch 84/100\n",
            "20/20 [==============================] - 0s 4ms/step - loss: 0.3640 - accuracy: 0.8241 - val_loss: 0.4851 - val_accuracy: 0.7662\n",
            "Epoch 85/100\n",
            "20/20 [==============================] - 0s 5ms/step - loss: 0.3621 - accuracy: 0.8290 - val_loss: 0.4829 - val_accuracy: 0.7597\n",
            "Epoch 86/100\n",
            "20/20 [==============================] - 0s 4ms/step - loss: 0.3626 - accuracy: 0.8274 - val_loss: 0.4864 - val_accuracy: 0.7727\n",
            "Epoch 87/100\n",
            "20/20 [==============================] - 0s 4ms/step - loss: 0.3609 - accuracy: 0.8241 - val_loss: 0.4872 - val_accuracy: 0.7792\n",
            "Epoch 88/100\n",
            "20/20 [==============================] - 0s 4ms/step - loss: 0.3604 - accuracy: 0.8257 - val_loss: 0.4874 - val_accuracy: 0.7662\n",
            "Epoch 89/100\n",
            "20/20 [==============================] - 0s 4ms/step - loss: 0.3600 - accuracy: 0.8306 - val_loss: 0.4853 - val_accuracy: 0.7727\n",
            "Epoch 90/100\n",
            "20/20 [==============================] - 0s 4ms/step - loss: 0.3590 - accuracy: 0.8225 - val_loss: 0.4917 - val_accuracy: 0.7662\n",
            "Epoch 91/100\n",
            "20/20 [==============================] - 0s 4ms/step - loss: 0.3580 - accuracy: 0.8208 - val_loss: 0.4905 - val_accuracy: 0.7662\n",
            "Epoch 92/100\n",
            "20/20 [==============================] - 0s 4ms/step - loss: 0.3595 - accuracy: 0.8257 - val_loss: 0.4946 - val_accuracy: 0.7792\n",
            "Epoch 93/100\n",
            "20/20 [==============================] - 0s 5ms/step - loss: 0.3570 - accuracy: 0.8257 - val_loss: 0.4851 - val_accuracy: 0.7792\n",
            "Epoch 94/100\n",
            "20/20 [==============================] - 0s 4ms/step - loss: 0.3561 - accuracy: 0.8274 - val_loss: 0.4918 - val_accuracy: 0.7662\n",
            "Epoch 95/100\n",
            "20/20 [==============================] - 0s 5ms/step - loss: 0.3552 - accuracy: 0.8306 - val_loss: 0.4904 - val_accuracy: 0.7792\n",
            "Epoch 96/100\n",
            "20/20 [==============================] - 0s 4ms/step - loss: 0.3564 - accuracy: 0.8192 - val_loss: 0.4900 - val_accuracy: 0.7727\n",
            "Epoch 97/100\n",
            "20/20 [==============================] - 0s 4ms/step - loss: 0.3547 - accuracy: 0.8306 - val_loss: 0.4928 - val_accuracy: 0.7857\n",
            "Epoch 98/100\n",
            "20/20 [==============================] - 0s 4ms/step - loss: 0.3526 - accuracy: 0.8322 - val_loss: 0.4876 - val_accuracy: 0.7792\n",
            "Epoch 99/100\n",
            "20/20 [==============================] - 0s 5ms/step - loss: 0.3522 - accuracy: 0.8274 - val_loss: 0.4938 - val_accuracy: 0.7727\n",
            "Epoch 100/100\n",
            "20/20 [==============================] - 0s 4ms/step - loss: 0.3505 - accuracy: 0.8274 - val_loss: 0.4919 - val_accuracy: 0.7792\n"
          ]
        }
      ]
    },
    {
      "cell_type": "code",
      "source": [
        "# How to select appropriate optimizer\n",
        "# No. of nodes in a layer\n",
        "# How to select no. of hidden layers\n",
        "# All in one model"
      ],
      "metadata": {
        "id": "HJCfDAWUecA1"
      },
      "execution_count": 15,
      "outputs": []
    },
    {
      "cell_type": "code",
      "source": [
        "!pip install -U keras-tuner"
      ],
      "metadata": {
        "colab": {
          "base_uri": "https://localhost:8080/"
        },
        "id": "57O9rfwnLXKy",
        "outputId": "c9b849af-85f0-49af-9ac5-5f5a382386e7"
      },
      "execution_count": 16,
      "outputs": [
        {
          "output_type": "stream",
          "name": "stdout",
          "text": [
            "Collecting keras-tuner\n",
            "  Downloading keras_tuner-1.4.2-py3-none-any.whl (127 kB)\n",
            "\u001b[2K     \u001b[90m━━━━━━━━━━━━━━━━━━━━━━━━━━━━━━━━━━━━━━━\u001b[0m \u001b[32m127.5/127.5 kB\u001b[0m \u001b[31m2.2 MB/s\u001b[0m eta \u001b[36m0:00:00\u001b[0m\n",
            "\u001b[?25hCollecting keras-core (from keras-tuner)\n",
            "  Downloading keras_core-0.1.7-py3-none-any.whl (950 kB)\n",
            "\u001b[2K     \u001b[90m━━━━━━━━━━━━━━━━━━━━━━━━━━━━━━━━━━━━━━━\u001b[0m \u001b[32m950.8/950.8 kB\u001b[0m \u001b[31m7.5 MB/s\u001b[0m eta \u001b[36m0:00:00\u001b[0m\n",
            "\u001b[?25hRequirement already satisfied: packaging in /usr/local/lib/python3.10/dist-packages (from keras-tuner) (23.1)\n",
            "Requirement already satisfied: requests in /usr/local/lib/python3.10/dist-packages (from keras-tuner) (2.31.0)\n",
            "Collecting kt-legacy (from keras-tuner)\n",
            "  Downloading kt_legacy-1.0.5-py3-none-any.whl (9.6 kB)\n",
            "Requirement already satisfied: absl-py in /usr/local/lib/python3.10/dist-packages (from keras-core->keras-tuner) (1.4.0)\n",
            "Requirement already satisfied: numpy in /usr/local/lib/python3.10/dist-packages (from keras-core->keras-tuner) (1.23.5)\n",
            "Requirement already satisfied: rich in /usr/local/lib/python3.10/dist-packages (from keras-core->keras-tuner) (13.5.2)\n",
            "Collecting namex (from keras-core->keras-tuner)\n",
            "  Downloading namex-0.0.7-py3-none-any.whl (5.8 kB)\n",
            "Requirement already satisfied: h5py in /usr/local/lib/python3.10/dist-packages (from keras-core->keras-tuner) (3.9.0)\n",
            "Requirement already satisfied: dm-tree in /usr/local/lib/python3.10/dist-packages (from keras-core->keras-tuner) (0.1.8)\n",
            "Requirement already satisfied: charset-normalizer<4,>=2 in /usr/local/lib/python3.10/dist-packages (from requests->keras-tuner) (3.2.0)\n",
            "Requirement already satisfied: idna<4,>=2.5 in /usr/local/lib/python3.10/dist-packages (from requests->keras-tuner) (3.4)\n",
            "Requirement already satisfied: urllib3<3,>=1.21.1 in /usr/local/lib/python3.10/dist-packages (from requests->keras-tuner) (2.0.4)\n",
            "Requirement already satisfied: certifi>=2017.4.17 in /usr/local/lib/python3.10/dist-packages (from requests->keras-tuner) (2023.7.22)\n",
            "Requirement already satisfied: markdown-it-py>=2.2.0 in /usr/local/lib/python3.10/dist-packages (from rich->keras-core->keras-tuner) (3.0.0)\n",
            "Requirement already satisfied: pygments<3.0.0,>=2.13.0 in /usr/local/lib/python3.10/dist-packages (from rich->keras-core->keras-tuner) (2.16.1)\n",
            "Requirement already satisfied: mdurl~=0.1 in /usr/local/lib/python3.10/dist-packages (from markdown-it-py>=2.2.0->rich->keras-core->keras-tuner) (0.1.2)\n",
            "Installing collected packages: namex, kt-legacy, keras-core, keras-tuner\n",
            "Successfully installed keras-core-0.1.7 keras-tuner-1.4.2 kt-legacy-1.0.5 namex-0.0.7\n"
          ]
        }
      ]
    },
    {
      "cell_type": "code",
      "source": [
        "import kerastuner as kt"
      ],
      "metadata": {
        "colab": {
          "base_uri": "https://localhost:8080/"
        },
        "id": "DRPq1ohfLgd0",
        "outputId": "98d41289-f609-402b-f471-3591e2e0788e"
      },
      "execution_count": 17,
      "outputs": [
        {
          "output_type": "stream",
          "name": "stdout",
          "text": [
            "Using TensorFlow backend\n"
          ]
        },
        {
          "output_type": "stream",
          "name": "stderr",
          "text": [
            "<ipython-input-17-5fd8096cdee5>:1: DeprecationWarning: `import kerastuner` is deprecated, please use `import keras_tuner`.\n",
            "  import kerastuner as kt\n"
          ]
        }
      ]
    },
    {
      "cell_type": "markdown",
      "source": [
        "# How to select appropriate optimizer"
      ],
      "metadata": {
        "id": "9yh4MH0uQQWo"
      }
    },
    {
      "cell_type": "code",
      "source": [
        "def build_model(hp): # hp is Hyper Parameter\n",
        "  model = Sequential()\n",
        "  model.add(Dense(32, activation =\"relu\", input_dim = 8))\n",
        "  model.add(Dense(1, activation = \"sigmoid\"))\n",
        "\n",
        "  optimizer = hp.Choice(\"optimizer\", values = [\"rmsprop\", \"adam\",\"sgd\",\"adadelta\"])\n",
        "\n",
        "  model.compile(optimizer = optimizer, loss = \"binary_crossentropy\", metrics = [\"accuracy\"])\n",
        "\n",
        "  return model"
      ],
      "metadata": {
        "id": "MeAy7vSxL9Rs"
      },
      "execution_count": 18,
      "outputs": []
    },
    {
      "cell_type": "code",
      "source": [
        "# RandomSearch is like GridSearchCV in machine learning\n",
        "tuner = kt.RandomSearch(build_model,\n",
        "                        max_trials = 5,\n",
        "                        objective = \"val_accuracy\")"
      ],
      "metadata": {
        "id": "nNd4w-VRPLSR"
      },
      "execution_count": 19,
      "outputs": []
    },
    {
      "cell_type": "code",
      "source": [
        "# Search will search for accuracy of all paramters in optimizer\n",
        "tuner.search(X_train, Y_train, epochs = 5, validation_data = (X_test, Y_test))"
      ],
      "metadata": {
        "colab": {
          "base_uri": "https://localhost:8080/"
        },
        "id": "RogGiL8nPehz",
        "outputId": "3da95c3f-b0ed-4ebd-d278-f6c251db10ff"
      },
      "execution_count": 20,
      "outputs": [
        {
          "output_type": "stream",
          "name": "stdout",
          "text": [
            "Trial 4 Complete [00h 00m 04s]\n",
            "val_accuracy: 0.7597402334213257\n",
            "\n",
            "Best val_accuracy So Far: 0.7597402334213257\n",
            "Total elapsed time: 00h 00m 10s\n"
          ]
        }
      ]
    },
    {
      "cell_type": "code",
      "source": [
        "# To get best optimizer\n",
        "tuner.get_best_hyperparameters()[0].values"
      ],
      "metadata": {
        "colab": {
          "base_uri": "https://localhost:8080/"
        },
        "id": "dyefN6zoQiNN",
        "outputId": "9ebe0850-84fa-4f9c-f679-fd3cf4cc9f57"
      },
      "execution_count": 21,
      "outputs": [
        {
          "output_type": "execute_result",
          "data": {
            "text/plain": [
              "{'optimizer': 'adam'}"
            ]
          },
          "metadata": {},
          "execution_count": 21
        }
      ]
    },
    {
      "cell_type": "code",
      "source": [
        "# To get best model where num_model =1 indicates number of best models and here it is 1 means the best one.\n",
        "model = tuner.get_best_models(num_models=1)[0]"
      ],
      "metadata": {
        "id": "snUE-0gOQuA1"
      },
      "execution_count": 22,
      "outputs": []
    },
    {
      "cell_type": "code",
      "source": [
        "model.summary()"
      ],
      "metadata": {
        "colab": {
          "base_uri": "https://localhost:8080/"
        },
        "id": "OJtSOEuxSi0M",
        "outputId": "cb404210-0989-4169-e3e3-e7ad714eaf6f"
      },
      "execution_count": 23,
      "outputs": [
        {
          "output_type": "stream",
          "name": "stdout",
          "text": [
            "Model: \"sequential\"\n",
            "_________________________________________________________________\n",
            " Layer (type)                Output Shape              Param #   \n",
            "=================================================================\n",
            " dense (Dense)               (None, 32)                288       \n",
            "                                                                 \n",
            " dense_1 (Dense)             (None, 1)                 33        \n",
            "                                                                 \n",
            "=================================================================\n",
            "Total params: 321\n",
            "Trainable params: 321\n",
            "Non-trainable params: 0\n",
            "_________________________________________________________________\n"
          ]
        }
      ]
    },
    {
      "cell_type": "code",
      "source": [
        "\n",
        "# initial epochs means it will start from 6 and we are doing so because our model has already ran for 5 epochs in keras tuner\n",
        "model.fit(X_train, Y_train, epochs = 100, batch_size = 32, initial_epoch = 6, validation_data = (X_test, Y_test))"
      ],
      "metadata": {
        "colab": {
          "base_uri": "https://localhost:8080/"
        },
        "id": "r8kqv3vvSlE8",
        "outputId": "f462e59a-f8f7-4821-ffda-00c9bbda4a80"
      },
      "execution_count": 24,
      "outputs": [
        {
          "output_type": "stream",
          "name": "stdout",
          "text": [
            "Epoch 7/100\n",
            "20/20 [==============================] - 2s 19ms/step - loss: 0.5287 - accuracy: 0.7459 - val_loss: 0.4926 - val_accuracy: 0.7727\n",
            "Epoch 8/100\n",
            "20/20 [==============================] - 0s 6ms/step - loss: 0.5153 - accuracy: 0.7557 - val_loss: 0.4840 - val_accuracy: 0.7532\n",
            "Epoch 9/100\n",
            "20/20 [==============================] - 0s 6ms/step - loss: 0.5061 - accuracy: 0.7590 - val_loss: 0.4772 - val_accuracy: 0.7662\n",
            "Epoch 10/100\n",
            "20/20 [==============================] - 0s 6ms/step - loss: 0.4974 - accuracy: 0.7638 - val_loss: 0.4722 - val_accuracy: 0.7727\n",
            "Epoch 11/100\n",
            "20/20 [==============================] - 0s 6ms/step - loss: 0.4904 - accuracy: 0.7655 - val_loss: 0.4674 - val_accuracy: 0.7792\n",
            "Epoch 12/100\n",
            "20/20 [==============================] - 0s 5ms/step - loss: 0.4843 - accuracy: 0.7687 - val_loss: 0.4636 - val_accuracy: 0.7727\n",
            "Epoch 13/100\n",
            "20/20 [==============================] - 0s 8ms/step - loss: 0.4792 - accuracy: 0.7752 - val_loss: 0.4583 - val_accuracy: 0.7857\n",
            "Epoch 14/100\n",
            "20/20 [==============================] - 0s 10ms/step - loss: 0.4754 - accuracy: 0.7785 - val_loss: 0.4574 - val_accuracy: 0.7792\n",
            "Epoch 15/100\n",
            "20/20 [==============================] - 0s 11ms/step - loss: 0.4712 - accuracy: 0.7818 - val_loss: 0.4552 - val_accuracy: 0.7727\n",
            "Epoch 16/100\n",
            "20/20 [==============================] - 0s 9ms/step - loss: 0.4676 - accuracy: 0.7785 - val_loss: 0.4530 - val_accuracy: 0.7857\n",
            "Epoch 17/100\n",
            "20/20 [==============================] - 0s 6ms/step - loss: 0.4649 - accuracy: 0.7866 - val_loss: 0.4506 - val_accuracy: 0.7857\n",
            "Epoch 18/100\n",
            "20/20 [==============================] - 0s 6ms/step - loss: 0.4622 - accuracy: 0.7866 - val_loss: 0.4511 - val_accuracy: 0.7792\n",
            "Epoch 19/100\n",
            "20/20 [==============================] - 0s 6ms/step - loss: 0.4601 - accuracy: 0.7866 - val_loss: 0.4519 - val_accuracy: 0.7792\n",
            "Epoch 20/100\n",
            "20/20 [==============================] - 0s 7ms/step - loss: 0.4586 - accuracy: 0.7834 - val_loss: 0.4508 - val_accuracy: 0.7857\n",
            "Epoch 21/100\n",
            "20/20 [==============================] - 0s 6ms/step - loss: 0.4563 - accuracy: 0.7818 - val_loss: 0.4528 - val_accuracy: 0.7792\n",
            "Epoch 22/100\n",
            "20/20 [==============================] - 0s 6ms/step - loss: 0.4550 - accuracy: 0.7834 - val_loss: 0.4527 - val_accuracy: 0.7792\n",
            "Epoch 23/100\n",
            "20/20 [==============================] - 0s 6ms/step - loss: 0.4539 - accuracy: 0.7801 - val_loss: 0.4526 - val_accuracy: 0.7792\n",
            "Epoch 24/100\n",
            "20/20 [==============================] - 0s 6ms/step - loss: 0.4517 - accuracy: 0.7834 - val_loss: 0.4520 - val_accuracy: 0.7792\n",
            "Epoch 25/100\n",
            "20/20 [==============================] - 0s 6ms/step - loss: 0.4508 - accuracy: 0.7883 - val_loss: 0.4517 - val_accuracy: 0.7792\n",
            "Epoch 26/100\n",
            "20/20 [==============================] - 0s 6ms/step - loss: 0.4496 - accuracy: 0.7834 - val_loss: 0.4509 - val_accuracy: 0.7792\n",
            "Epoch 27/100\n",
            "20/20 [==============================] - 0s 7ms/step - loss: 0.4481 - accuracy: 0.7818 - val_loss: 0.4525 - val_accuracy: 0.7792\n",
            "Epoch 28/100\n",
            "20/20 [==============================] - 0s 4ms/step - loss: 0.4469 - accuracy: 0.7883 - val_loss: 0.4525 - val_accuracy: 0.7792\n",
            "Epoch 29/100\n",
            "20/20 [==============================] - 0s 4ms/step - loss: 0.4463 - accuracy: 0.7866 - val_loss: 0.4544 - val_accuracy: 0.7792\n",
            "Epoch 30/100\n",
            "20/20 [==============================] - 0s 4ms/step - loss: 0.4454 - accuracy: 0.7850 - val_loss: 0.4529 - val_accuracy: 0.7857\n",
            "Epoch 31/100\n",
            "20/20 [==============================] - 0s 4ms/step - loss: 0.4444 - accuracy: 0.7818 - val_loss: 0.4551 - val_accuracy: 0.7792\n",
            "Epoch 32/100\n",
            "20/20 [==============================] - 0s 4ms/step - loss: 0.4435 - accuracy: 0.7801 - val_loss: 0.4537 - val_accuracy: 0.7857\n",
            "Epoch 33/100\n",
            "20/20 [==============================] - 0s 4ms/step - loss: 0.4421 - accuracy: 0.7785 - val_loss: 0.4545 - val_accuracy: 0.7857\n",
            "Epoch 34/100\n",
            "20/20 [==============================] - 0s 4ms/step - loss: 0.4416 - accuracy: 0.7834 - val_loss: 0.4545 - val_accuracy: 0.7727\n",
            "Epoch 35/100\n",
            "20/20 [==============================] - 0s 4ms/step - loss: 0.4408 - accuracy: 0.7850 - val_loss: 0.4560 - val_accuracy: 0.7792\n",
            "Epoch 36/100\n",
            "20/20 [==============================] - 0s 4ms/step - loss: 0.4402 - accuracy: 0.7834 - val_loss: 0.4551 - val_accuracy: 0.7792\n",
            "Epoch 37/100\n",
            "20/20 [==============================] - 0s 5ms/step - loss: 0.4399 - accuracy: 0.7834 - val_loss: 0.4558 - val_accuracy: 0.7792\n",
            "Epoch 38/100\n",
            "20/20 [==============================] - 0s 4ms/step - loss: 0.4386 - accuracy: 0.7818 - val_loss: 0.4566 - val_accuracy: 0.7857\n",
            "Epoch 39/100\n",
            "20/20 [==============================] - 0s 4ms/step - loss: 0.4392 - accuracy: 0.7752 - val_loss: 0.4588 - val_accuracy: 0.7792\n",
            "Epoch 40/100\n",
            "20/20 [==============================] - 0s 4ms/step - loss: 0.4376 - accuracy: 0.7850 - val_loss: 0.4555 - val_accuracy: 0.7792\n",
            "Epoch 41/100\n",
            "20/20 [==============================] - 0s 4ms/step - loss: 0.4369 - accuracy: 0.7883 - val_loss: 0.4573 - val_accuracy: 0.7792\n",
            "Epoch 42/100\n",
            "20/20 [==============================] - 0s 9ms/step - loss: 0.4362 - accuracy: 0.7866 - val_loss: 0.4569 - val_accuracy: 0.7727\n",
            "Epoch 43/100\n",
            "20/20 [==============================] - 0s 6ms/step - loss: 0.4351 - accuracy: 0.7866 - val_loss: 0.4586 - val_accuracy: 0.7792\n",
            "Epoch 44/100\n",
            "20/20 [==============================] - 0s 5ms/step - loss: 0.4349 - accuracy: 0.7850 - val_loss: 0.4599 - val_accuracy: 0.7792\n",
            "Epoch 45/100\n",
            "20/20 [==============================] - 0s 7ms/step - loss: 0.4345 - accuracy: 0.7866 - val_loss: 0.4584 - val_accuracy: 0.7792\n",
            "Epoch 46/100\n",
            "20/20 [==============================] - 0s 10ms/step - loss: 0.4339 - accuracy: 0.7866 - val_loss: 0.4617 - val_accuracy: 0.7857\n",
            "Epoch 47/100\n",
            "20/20 [==============================] - 0s 9ms/step - loss: 0.4332 - accuracy: 0.7883 - val_loss: 0.4607 - val_accuracy: 0.7792\n",
            "Epoch 48/100\n",
            "20/20 [==============================] - 0s 6ms/step - loss: 0.4331 - accuracy: 0.7866 - val_loss: 0.4609 - val_accuracy: 0.7857\n",
            "Epoch 49/100\n",
            "20/20 [==============================] - 0s 10ms/step - loss: 0.4320 - accuracy: 0.7834 - val_loss: 0.4581 - val_accuracy: 0.7857\n",
            "Epoch 50/100\n",
            "20/20 [==============================] - 0s 8ms/step - loss: 0.4313 - accuracy: 0.7899 - val_loss: 0.4576 - val_accuracy: 0.7792\n",
            "Epoch 51/100\n",
            "20/20 [==============================] - 0s 8ms/step - loss: 0.4308 - accuracy: 0.7883 - val_loss: 0.4602 - val_accuracy: 0.7857\n",
            "Epoch 52/100\n",
            "20/20 [==============================] - 0s 7ms/step - loss: 0.4301 - accuracy: 0.7932 - val_loss: 0.4595 - val_accuracy: 0.7792\n",
            "Epoch 53/100\n",
            "20/20 [==============================] - 0s 6ms/step - loss: 0.4301 - accuracy: 0.7866 - val_loss: 0.4629 - val_accuracy: 0.7922\n",
            "Epoch 54/100\n",
            "20/20 [==============================] - 0s 8ms/step - loss: 0.4292 - accuracy: 0.7932 - val_loss: 0.4636 - val_accuracy: 0.7922\n",
            "Epoch 55/100\n",
            "20/20 [==============================] - 0s 7ms/step - loss: 0.4286 - accuracy: 0.7883 - val_loss: 0.4638 - val_accuracy: 0.7857\n",
            "Epoch 56/100\n",
            "20/20 [==============================] - 0s 7ms/step - loss: 0.4286 - accuracy: 0.7899 - val_loss: 0.4642 - val_accuracy: 0.7857\n",
            "Epoch 57/100\n",
            "20/20 [==============================] - 0s 10ms/step - loss: 0.4275 - accuracy: 0.7899 - val_loss: 0.4624 - val_accuracy: 0.7857\n",
            "Epoch 58/100\n",
            "20/20 [==============================] - 0s 11ms/step - loss: 0.4272 - accuracy: 0.7915 - val_loss: 0.4615 - val_accuracy: 0.7857\n",
            "Epoch 59/100\n",
            "20/20 [==============================] - 0s 8ms/step - loss: 0.4274 - accuracy: 0.7915 - val_loss: 0.4623 - val_accuracy: 0.7857\n",
            "Epoch 60/100\n",
            "20/20 [==============================] - 0s 7ms/step - loss: 0.4262 - accuracy: 0.7964 - val_loss: 0.4615 - val_accuracy: 0.7792\n",
            "Epoch 61/100\n",
            "20/20 [==============================] - 0s 16ms/step - loss: 0.4257 - accuracy: 0.7997 - val_loss: 0.4608 - val_accuracy: 0.7792\n",
            "Epoch 62/100\n",
            "20/20 [==============================] - 0s 7ms/step - loss: 0.4253 - accuracy: 0.7964 - val_loss: 0.4612 - val_accuracy: 0.7792\n",
            "Epoch 63/100\n",
            "20/20 [==============================] - 0s 6ms/step - loss: 0.4246 - accuracy: 0.7997 - val_loss: 0.4619 - val_accuracy: 0.7792\n",
            "Epoch 64/100\n",
            "20/20 [==============================] - 0s 14ms/step - loss: 0.4243 - accuracy: 0.7932 - val_loss: 0.4625 - val_accuracy: 0.7857\n",
            "Epoch 65/100\n",
            "20/20 [==============================] - 0s 8ms/step - loss: 0.4237 - accuracy: 0.7932 - val_loss: 0.4611 - val_accuracy: 0.7857\n",
            "Epoch 66/100\n",
            "20/20 [==============================] - 0s 8ms/step - loss: 0.4231 - accuracy: 0.7948 - val_loss: 0.4619 - val_accuracy: 0.7857\n",
            "Epoch 67/100\n",
            "20/20 [==============================] - 0s 6ms/step - loss: 0.4221 - accuracy: 0.7980 - val_loss: 0.4635 - val_accuracy: 0.7857\n",
            "Epoch 68/100\n",
            "20/20 [==============================] - 0s 11ms/step - loss: 0.4224 - accuracy: 0.7948 - val_loss: 0.4640 - val_accuracy: 0.7857\n",
            "Epoch 69/100\n",
            "20/20 [==============================] - 0s 13ms/step - loss: 0.4217 - accuracy: 0.7932 - val_loss: 0.4644 - val_accuracy: 0.7857\n",
            "Epoch 70/100\n",
            "20/20 [==============================] - 0s 9ms/step - loss: 0.4216 - accuracy: 0.7948 - val_loss: 0.4633 - val_accuracy: 0.7792\n",
            "Epoch 71/100\n",
            "20/20 [==============================] - 0s 9ms/step - loss: 0.4212 - accuracy: 0.7964 - val_loss: 0.4611 - val_accuracy: 0.7857\n",
            "Epoch 72/100\n",
            "20/20 [==============================] - 0s 8ms/step - loss: 0.4208 - accuracy: 0.7980 - val_loss: 0.4628 - val_accuracy: 0.7857\n",
            "Epoch 73/100\n",
            "20/20 [==============================] - 0s 7ms/step - loss: 0.4205 - accuracy: 0.7932 - val_loss: 0.4637 - val_accuracy: 0.7922\n",
            "Epoch 74/100\n",
            "20/20 [==============================] - 0s 7ms/step - loss: 0.4204 - accuracy: 0.7915 - val_loss: 0.4660 - val_accuracy: 0.7922\n",
            "Epoch 75/100\n",
            "20/20 [==============================] - 0s 8ms/step - loss: 0.4202 - accuracy: 0.7915 - val_loss: 0.4650 - val_accuracy: 0.7922\n",
            "Epoch 76/100\n",
            "20/20 [==============================] - 0s 7ms/step - loss: 0.4194 - accuracy: 0.7948 - val_loss: 0.4642 - val_accuracy: 0.7922\n",
            "Epoch 77/100\n",
            "20/20 [==============================] - 0s 12ms/step - loss: 0.4187 - accuracy: 0.7899 - val_loss: 0.4648 - val_accuracy: 0.7922\n",
            "Epoch 78/100\n",
            "20/20 [==============================] - 0s 7ms/step - loss: 0.4187 - accuracy: 0.7899 - val_loss: 0.4650 - val_accuracy: 0.7922\n",
            "Epoch 79/100\n",
            "20/20 [==============================] - 0s 8ms/step - loss: 0.4182 - accuracy: 0.7899 - val_loss: 0.4649 - val_accuracy: 0.7792\n",
            "Epoch 80/100\n",
            "20/20 [==============================] - 0s 14ms/step - loss: 0.4182 - accuracy: 0.7899 - val_loss: 0.4658 - val_accuracy: 0.7792\n",
            "Epoch 81/100\n",
            "20/20 [==============================] - 0s 7ms/step - loss: 0.4182 - accuracy: 0.7932 - val_loss: 0.4632 - val_accuracy: 0.7792\n",
            "Epoch 82/100\n",
            "20/20 [==============================] - 0s 9ms/step - loss: 0.4173 - accuracy: 0.7948 - val_loss: 0.4664 - val_accuracy: 0.7857\n",
            "Epoch 83/100\n",
            "20/20 [==============================] - 0s 9ms/step - loss: 0.4173 - accuracy: 0.7899 - val_loss: 0.4683 - val_accuracy: 0.7857\n",
            "Epoch 84/100\n",
            "20/20 [==============================] - 0s 7ms/step - loss: 0.4161 - accuracy: 0.7932 - val_loss: 0.4619 - val_accuracy: 0.7792\n",
            "Epoch 85/100\n",
            "20/20 [==============================] - 0s 6ms/step - loss: 0.4171 - accuracy: 0.7948 - val_loss: 0.4590 - val_accuracy: 0.7727\n",
            "Epoch 86/100\n",
            "20/20 [==============================] - 0s 6ms/step - loss: 0.4165 - accuracy: 0.7948 - val_loss: 0.4602 - val_accuracy: 0.7857\n",
            "Epoch 87/100\n",
            "20/20 [==============================] - 0s 6ms/step - loss: 0.4156 - accuracy: 0.7964 - val_loss: 0.4627 - val_accuracy: 0.7857\n",
            "Epoch 88/100\n",
            "20/20 [==============================] - 0s 8ms/step - loss: 0.4152 - accuracy: 0.7932 - val_loss: 0.4667 - val_accuracy: 0.7792\n",
            "Epoch 89/100\n",
            "20/20 [==============================] - 0s 7ms/step - loss: 0.4147 - accuracy: 0.7899 - val_loss: 0.4669 - val_accuracy: 0.7792\n",
            "Epoch 90/100\n",
            "20/20 [==============================] - 0s 6ms/step - loss: 0.4148 - accuracy: 0.7932 - val_loss: 0.4643 - val_accuracy: 0.7857\n",
            "Epoch 91/100\n",
            "20/20 [==============================] - 0s 6ms/step - loss: 0.4139 - accuracy: 0.7932 - val_loss: 0.4651 - val_accuracy: 0.7857\n",
            "Epoch 92/100\n",
            "20/20 [==============================] - 0s 12ms/step - loss: 0.4141 - accuracy: 0.7932 - val_loss: 0.4659 - val_accuracy: 0.7857\n",
            "Epoch 93/100\n",
            "20/20 [==============================] - 0s 12ms/step - loss: 0.4131 - accuracy: 0.7915 - val_loss: 0.4673 - val_accuracy: 0.7857\n",
            "Epoch 94/100\n",
            "20/20 [==============================] - 0s 16ms/step - loss: 0.4127 - accuracy: 0.7932 - val_loss: 0.4683 - val_accuracy: 0.7857\n",
            "Epoch 95/100\n",
            "20/20 [==============================] - 0s 10ms/step - loss: 0.4131 - accuracy: 0.7932 - val_loss: 0.4685 - val_accuracy: 0.7857\n",
            "Epoch 96/100\n",
            "20/20 [==============================] - 0s 17ms/step - loss: 0.4120 - accuracy: 0.7932 - val_loss: 0.4672 - val_accuracy: 0.7857\n",
            "Epoch 97/100\n",
            "20/20 [==============================] - 0s 13ms/step - loss: 0.4121 - accuracy: 0.7980 - val_loss: 0.4666 - val_accuracy: 0.7857\n",
            "Epoch 98/100\n",
            "20/20 [==============================] - 0s 14ms/step - loss: 0.4122 - accuracy: 0.7980 - val_loss: 0.4631 - val_accuracy: 0.7792\n",
            "Epoch 99/100\n",
            "20/20 [==============================] - 0s 11ms/step - loss: 0.4123 - accuracy: 0.7997 - val_loss: 0.4645 - val_accuracy: 0.7857\n",
            "Epoch 100/100\n",
            "20/20 [==============================] - 0s 11ms/step - loss: 0.4114 - accuracy: 0.8029 - val_loss: 0.4658 - val_accuracy: 0.7857\n"
          ]
        },
        {
          "output_type": "execute_result",
          "data": {
            "text/plain": [
              "<keras.callbacks.History at 0x7d59d681b340>"
            ]
          },
          "metadata": {},
          "execution_count": 24
        }
      ]
    },
    {
      "cell_type": "markdown",
      "source": [
        "# No. of nodes in a layer\n"
      ],
      "metadata": {
        "id": "lwuzotyQKzbO"
      }
    },
    {
      "cell_type": "code",
      "source": [
        "# # To delete untitled folder created during training\n",
        "# import shutil\n",
        "\n",
        "# shutil.rmtree('untitled_project')"
      ],
      "metadata": {
        "id": "emUGSAC5HGwP"
      },
      "execution_count": 25,
      "outputs": []
    },
    {
      "cell_type": "code",
      "source": [
        "def build_model(hp):\n",
        "  units = hp.Int(name = \"units\",min_value = 8, max_value = 128,step = 8) # we can remove this step and by default it will have value as 1\n",
        "  model = Sequential()\n",
        "  model.add(Dense(units=units, activation = \"relu\", input_dim = 8))\n",
        "  model.add(Dense(1, activation = \"sigmoid\"))\n",
        "  # optimizer = hp.Choice(\"optimizer\", values = [\"rmsprop\", \"adam\", \"adadelta\", \"sgd\"])\n",
        "\n",
        "  model.compile(optimizer = \"rmsprop\", loss = \"binary_crossentropy\", metrics = [\"accuracy\"])\n",
        "  return model"
      ],
      "metadata": {
        "id": "6FE4KjQyS8YL"
      },
      "execution_count": 26,
      "outputs": []
    },
    {
      "cell_type": "code",
      "source": [
        "tuner2 = kt.RandomSearch(build_model, max_trials = 5, objective=\"val_accuracy\",directory = \"some_directory\", project_name = \"Akshay kumar\")"
      ],
      "metadata": {
        "id": "NOhOcBIwcloE"
      },
      "execution_count": 27,
      "outputs": []
    },
    {
      "cell_type": "code",
      "source": [
        "tuner2.search(X_train, Y_train, epochs = 5, validation_data = (X_test, Y_test))"
      ],
      "metadata": {
        "id": "_oYZawsqc1mb",
        "colab": {
          "base_uri": "https://localhost:8080/"
        },
        "outputId": "f5428e14-e1f6-421a-d78d-14d7b47ec5af"
      },
      "execution_count": 28,
      "outputs": [
        {
          "output_type": "stream",
          "name": "stdout",
          "text": [
            "Trial 5 Complete [00h 00m 02s]\n",
            "val_accuracy: 0.7792207598686218\n",
            "\n",
            "Best val_accuracy So Far: 0.7792207598686218\n",
            "Total elapsed time: 00h 00m 18s\n"
          ]
        }
      ]
    },
    {
      "cell_type": "code",
      "source": [
        "tuner2.get_best_hyperparameters()[0].values"
      ],
      "metadata": {
        "colab": {
          "base_uri": "https://localhost:8080/"
        },
        "id": "Pq3OeLW-dKqf",
        "outputId": "86a230c8-6910-498f-d0b5-f733010cc577"
      },
      "execution_count": 29,
      "outputs": [
        {
          "output_type": "execute_result",
          "data": {
            "text/plain": [
              "{'units': 120}"
            ]
          },
          "metadata": {},
          "execution_count": 29
        }
      ]
    },
    {
      "cell_type": "code",
      "source": [
        "model2 = tuner2.get_best_models(num_models = 1 )[0]"
      ],
      "metadata": {
        "id": "cu2tuI-udfYo"
      },
      "execution_count": 30,
      "outputs": []
    },
    {
      "cell_type": "code",
      "source": [
        "model2.summary()"
      ],
      "metadata": {
        "colab": {
          "base_uri": "https://localhost:8080/"
        },
        "id": "GEiiVe_Fd5K6",
        "outputId": "a5b47bc1-9204-48f7-e79e-71ec024e08cd"
      },
      "execution_count": 31,
      "outputs": [
        {
          "output_type": "stream",
          "name": "stdout",
          "text": [
            "Model: \"sequential\"\n",
            "_________________________________________________________________\n",
            " Layer (type)                Output Shape              Param #   \n",
            "=================================================================\n",
            " dense (Dense)               (None, 120)               1080      \n",
            "                                                                 \n",
            " dense_1 (Dense)             (None, 1)                 121       \n",
            "                                                                 \n",
            "=================================================================\n",
            "Total params: 1,201\n",
            "Trainable params: 1,201\n",
            "Non-trainable params: 0\n",
            "_________________________________________________________________\n"
          ]
        }
      ]
    },
    {
      "cell_type": "code",
      "source": [
        "model2.fit(X_train, Y_train, epochs = 100,initial_epoch = 6,  validation_data = (X_test, Y_test))"
      ],
      "metadata": {
        "id": "_-uNQso1eH6L",
        "colab": {
          "base_uri": "https://localhost:8080/"
        },
        "outputId": "e45e8cab-5c4f-486b-922b-bcf5f7a4dc22"
      },
      "execution_count": 32,
      "outputs": [
        {
          "output_type": "stream",
          "name": "stdout",
          "text": [
            "Epoch 7/100\n",
            "20/20 [==============================] - 1s 19ms/step - loss: 0.4617 - accuracy: 0.7866 - val_loss: 0.4601 - val_accuracy: 0.7597\n",
            "Epoch 8/100\n",
            "20/20 [==============================] - 0s 5ms/step - loss: 0.4565 - accuracy: 0.7866 - val_loss: 0.4581 - val_accuracy: 0.7662\n",
            "Epoch 9/100\n",
            "20/20 [==============================] - 0s 7ms/step - loss: 0.4523 - accuracy: 0.7785 - val_loss: 0.4570 - val_accuracy: 0.7532\n",
            "Epoch 10/100\n",
            "20/20 [==============================] - 0s 6ms/step - loss: 0.4497 - accuracy: 0.7850 - val_loss: 0.4611 - val_accuracy: 0.7792\n",
            "Epoch 11/100\n",
            "20/20 [==============================] - 0s 6ms/step - loss: 0.4474 - accuracy: 0.7818 - val_loss: 0.4618 - val_accuracy: 0.7792\n",
            "Epoch 12/100\n",
            "20/20 [==============================] - 0s 6ms/step - loss: 0.4453 - accuracy: 0.7818 - val_loss: 0.4629 - val_accuracy: 0.7857\n",
            "Epoch 13/100\n",
            "20/20 [==============================] - 0s 6ms/step - loss: 0.4431 - accuracy: 0.7850 - val_loss: 0.4652 - val_accuracy: 0.7857\n",
            "Epoch 14/100\n",
            "20/20 [==============================] - 0s 7ms/step - loss: 0.4408 - accuracy: 0.7915 - val_loss: 0.4580 - val_accuracy: 0.7662\n",
            "Epoch 15/100\n",
            "20/20 [==============================] - 0s 6ms/step - loss: 0.4407 - accuracy: 0.7932 - val_loss: 0.4639 - val_accuracy: 0.7857\n",
            "Epoch 16/100\n",
            "20/20 [==============================] - 0s 5ms/step - loss: 0.4383 - accuracy: 0.7866 - val_loss: 0.4667 - val_accuracy: 0.7922\n",
            "Epoch 17/100\n",
            "20/20 [==============================] - 0s 7ms/step - loss: 0.4379 - accuracy: 0.7899 - val_loss: 0.4636 - val_accuracy: 0.7857\n",
            "Epoch 18/100\n",
            "20/20 [==============================] - 0s 6ms/step - loss: 0.4363 - accuracy: 0.7785 - val_loss: 0.4608 - val_accuracy: 0.7792\n",
            "Epoch 19/100\n",
            "20/20 [==============================] - 0s 5ms/step - loss: 0.4351 - accuracy: 0.7883 - val_loss: 0.4639 - val_accuracy: 0.7857\n",
            "Epoch 20/100\n",
            "20/20 [==============================] - 0s 6ms/step - loss: 0.4336 - accuracy: 0.7915 - val_loss: 0.4673 - val_accuracy: 0.7987\n",
            "Epoch 21/100\n",
            "20/20 [==============================] - 0s 6ms/step - loss: 0.4326 - accuracy: 0.7818 - val_loss: 0.4670 - val_accuracy: 0.7857\n",
            "Epoch 22/100\n",
            "20/20 [==============================] - 0s 5ms/step - loss: 0.4313 - accuracy: 0.7883 - val_loss: 0.4634 - val_accuracy: 0.7727\n",
            "Epoch 23/100\n",
            "20/20 [==============================] - 0s 6ms/step - loss: 0.4304 - accuracy: 0.7932 - val_loss: 0.4668 - val_accuracy: 0.7922\n",
            "Epoch 24/100\n",
            "20/20 [==============================] - 0s 6ms/step - loss: 0.4297 - accuracy: 0.7866 - val_loss: 0.4624 - val_accuracy: 0.7857\n",
            "Epoch 25/100\n",
            "20/20 [==============================] - 0s 6ms/step - loss: 0.4279 - accuracy: 0.7866 - val_loss: 0.4617 - val_accuracy: 0.7922\n",
            "Epoch 26/100\n",
            "20/20 [==============================] - 0s 6ms/step - loss: 0.4278 - accuracy: 0.7932 - val_loss: 0.4644 - val_accuracy: 0.7987\n",
            "Epoch 27/100\n",
            "20/20 [==============================] - 0s 6ms/step - loss: 0.4273 - accuracy: 0.7899 - val_loss: 0.4679 - val_accuracy: 0.7987\n",
            "Epoch 28/100\n",
            "20/20 [==============================] - 0s 6ms/step - loss: 0.4259 - accuracy: 0.7866 - val_loss: 0.4678 - val_accuracy: 0.7987\n",
            "Epoch 29/100\n",
            "20/20 [==============================] - 0s 6ms/step - loss: 0.4247 - accuracy: 0.7899 - val_loss: 0.4657 - val_accuracy: 0.7987\n",
            "Epoch 30/100\n",
            "20/20 [==============================] - 0s 6ms/step - loss: 0.4239 - accuracy: 0.7883 - val_loss: 0.4662 - val_accuracy: 0.7987\n",
            "Epoch 31/100\n",
            "20/20 [==============================] - 0s 5ms/step - loss: 0.4229 - accuracy: 0.7834 - val_loss: 0.4686 - val_accuracy: 0.7987\n",
            "Epoch 32/100\n",
            "20/20 [==============================] - 0s 7ms/step - loss: 0.4225 - accuracy: 0.7883 - val_loss: 0.4676 - val_accuracy: 0.7987\n",
            "Epoch 33/100\n",
            "20/20 [==============================] - 0s 6ms/step - loss: 0.4201 - accuracy: 0.7883 - val_loss: 0.4637 - val_accuracy: 0.7987\n",
            "Epoch 34/100\n",
            "20/20 [==============================] - 0s 7ms/step - loss: 0.4201 - accuracy: 0.7866 - val_loss: 0.4630 - val_accuracy: 0.7987\n",
            "Epoch 35/100\n",
            "20/20 [==============================] - 0s 6ms/step - loss: 0.4193 - accuracy: 0.7948 - val_loss: 0.4638 - val_accuracy: 0.7987\n",
            "Epoch 36/100\n",
            "20/20 [==============================] - 0s 6ms/step - loss: 0.4188 - accuracy: 0.7899 - val_loss: 0.4630 - val_accuracy: 0.7987\n",
            "Epoch 37/100\n",
            "20/20 [==============================] - 0s 6ms/step - loss: 0.4171 - accuracy: 0.7997 - val_loss: 0.4616 - val_accuracy: 0.7987\n",
            "Epoch 38/100\n",
            "20/20 [==============================] - 0s 6ms/step - loss: 0.4179 - accuracy: 0.8013 - val_loss: 0.4643 - val_accuracy: 0.7987\n",
            "Epoch 39/100\n",
            "20/20 [==============================] - 0s 6ms/step - loss: 0.4164 - accuracy: 0.7866 - val_loss: 0.4623 - val_accuracy: 0.7987\n",
            "Epoch 40/100\n",
            "20/20 [==============================] - 0s 6ms/step - loss: 0.4158 - accuracy: 0.7932 - val_loss: 0.4665 - val_accuracy: 0.8052\n",
            "Epoch 41/100\n",
            "20/20 [==============================] - 0s 5ms/step - loss: 0.4144 - accuracy: 0.7932 - val_loss: 0.4658 - val_accuracy: 0.7987\n",
            "Epoch 42/100\n",
            "20/20 [==============================] - 0s 6ms/step - loss: 0.4135 - accuracy: 0.7948 - val_loss: 0.4694 - val_accuracy: 0.8052\n",
            "Epoch 43/100\n",
            "20/20 [==============================] - 0s 6ms/step - loss: 0.4135 - accuracy: 0.7948 - val_loss: 0.4671 - val_accuracy: 0.8052\n",
            "Epoch 44/100\n",
            "20/20 [==============================] - 0s 5ms/step - loss: 0.4122 - accuracy: 0.7915 - val_loss: 0.4721 - val_accuracy: 0.7987\n",
            "Epoch 45/100\n",
            "20/20 [==============================] - 0s 6ms/step - loss: 0.4114 - accuracy: 0.7915 - val_loss: 0.4679 - val_accuracy: 0.7922\n",
            "Epoch 46/100\n",
            "20/20 [==============================] - 0s 6ms/step - loss: 0.4106 - accuracy: 0.7883 - val_loss: 0.4644 - val_accuracy: 0.7987\n",
            "Epoch 47/100\n",
            "20/20 [==============================] - 0s 7ms/step - loss: 0.4099 - accuracy: 0.7964 - val_loss: 0.4656 - val_accuracy: 0.7987\n",
            "Epoch 48/100\n",
            "20/20 [==============================] - 0s 6ms/step - loss: 0.4098 - accuracy: 0.7964 - val_loss: 0.4678 - val_accuracy: 0.8052\n",
            "Epoch 49/100\n",
            "20/20 [==============================] - 0s 6ms/step - loss: 0.4086 - accuracy: 0.7964 - val_loss: 0.4676 - val_accuracy: 0.7922\n",
            "Epoch 50/100\n",
            "20/20 [==============================] - 0s 7ms/step - loss: 0.4079 - accuracy: 0.7932 - val_loss: 0.4670 - val_accuracy: 0.7922\n",
            "Epoch 51/100\n",
            "20/20 [==============================] - 0s 7ms/step - loss: 0.4067 - accuracy: 0.7948 - val_loss: 0.4656 - val_accuracy: 0.7922\n",
            "Epoch 52/100\n",
            "20/20 [==============================] - 0s 6ms/step - loss: 0.4065 - accuracy: 0.7964 - val_loss: 0.4700 - val_accuracy: 0.7922\n",
            "Epoch 53/100\n",
            "20/20 [==============================] - 0s 5ms/step - loss: 0.4059 - accuracy: 0.7948 - val_loss: 0.4653 - val_accuracy: 0.8052\n",
            "Epoch 54/100\n",
            "20/20 [==============================] - 0s 5ms/step - loss: 0.4044 - accuracy: 0.7997 - val_loss: 0.4666 - val_accuracy: 0.7987\n",
            "Epoch 55/100\n",
            "20/20 [==============================] - 0s 6ms/step - loss: 0.4045 - accuracy: 0.7997 - val_loss: 0.4708 - val_accuracy: 0.7987\n",
            "Epoch 56/100\n",
            "20/20 [==============================] - 0s 6ms/step - loss: 0.4032 - accuracy: 0.7932 - val_loss: 0.4678 - val_accuracy: 0.7922\n",
            "Epoch 57/100\n",
            "20/20 [==============================] - 0s 3ms/step - loss: 0.4032 - accuracy: 0.7932 - val_loss: 0.4717 - val_accuracy: 0.7922\n",
            "Epoch 58/100\n",
            "20/20 [==============================] - 0s 4ms/step - loss: 0.4026 - accuracy: 0.7915 - val_loss: 0.4686 - val_accuracy: 0.7987\n",
            "Epoch 59/100\n",
            "20/20 [==============================] - 0s 4ms/step - loss: 0.4016 - accuracy: 0.7997 - val_loss: 0.4691 - val_accuracy: 0.7987\n",
            "Epoch 60/100\n",
            "20/20 [==============================] - 0s 4ms/step - loss: 0.4013 - accuracy: 0.7980 - val_loss: 0.4701 - val_accuracy: 0.7857\n",
            "Epoch 61/100\n",
            "20/20 [==============================] - 0s 4ms/step - loss: 0.4004 - accuracy: 0.8062 - val_loss: 0.4704 - val_accuracy: 0.7922\n",
            "Epoch 62/100\n",
            "20/20 [==============================] - 0s 4ms/step - loss: 0.3999 - accuracy: 0.8013 - val_loss: 0.4690 - val_accuracy: 0.7922\n",
            "Epoch 63/100\n",
            "20/20 [==============================] - 0s 4ms/step - loss: 0.3985 - accuracy: 0.8062 - val_loss: 0.4696 - val_accuracy: 0.7987\n",
            "Epoch 64/100\n",
            "20/20 [==============================] - 0s 4ms/step - loss: 0.3988 - accuracy: 0.8046 - val_loss: 0.4690 - val_accuracy: 0.7922\n",
            "Epoch 65/100\n",
            "20/20 [==============================] - 0s 4ms/step - loss: 0.3990 - accuracy: 0.8046 - val_loss: 0.4686 - val_accuracy: 0.7987\n",
            "Epoch 66/100\n",
            "20/20 [==============================] - 0s 4ms/step - loss: 0.3969 - accuracy: 0.8094 - val_loss: 0.4732 - val_accuracy: 0.7792\n",
            "Epoch 67/100\n",
            "20/20 [==============================] - 0s 4ms/step - loss: 0.3973 - accuracy: 0.8046 - val_loss: 0.4698 - val_accuracy: 0.7922\n",
            "Epoch 68/100\n",
            "20/20 [==============================] - 0s 4ms/step - loss: 0.3958 - accuracy: 0.8127 - val_loss: 0.4704 - val_accuracy: 0.7857\n",
            "Epoch 69/100\n",
            "20/20 [==============================] - 0s 4ms/step - loss: 0.3965 - accuracy: 0.8013 - val_loss: 0.4668 - val_accuracy: 0.7987\n",
            "Epoch 70/100\n",
            "20/20 [==============================] - 0s 4ms/step - loss: 0.3954 - accuracy: 0.8094 - val_loss: 0.4697 - val_accuracy: 0.7857\n",
            "Epoch 71/100\n",
            "20/20 [==============================] - 0s 5ms/step - loss: 0.3950 - accuracy: 0.8046 - val_loss: 0.4695 - val_accuracy: 0.7857\n",
            "Epoch 72/100\n",
            "20/20 [==============================] - 0s 4ms/step - loss: 0.3938 - accuracy: 0.8046 - val_loss: 0.4645 - val_accuracy: 0.7987\n",
            "Epoch 73/100\n",
            "20/20 [==============================] - 0s 4ms/step - loss: 0.3926 - accuracy: 0.8062 - val_loss: 0.4721 - val_accuracy: 0.7792\n",
            "Epoch 74/100\n",
            "20/20 [==============================] - 0s 4ms/step - loss: 0.3926 - accuracy: 0.8078 - val_loss: 0.4691 - val_accuracy: 0.7857\n",
            "Epoch 75/100\n",
            "20/20 [==============================] - 0s 4ms/step - loss: 0.3924 - accuracy: 0.8013 - val_loss: 0.4711 - val_accuracy: 0.7987\n",
            "Epoch 76/100\n",
            "20/20 [==============================] - 0s 3ms/step - loss: 0.3922 - accuracy: 0.8029 - val_loss: 0.4704 - val_accuracy: 0.7857\n",
            "Epoch 77/100\n",
            "20/20 [==============================] - 0s 5ms/step - loss: 0.3911 - accuracy: 0.8062 - val_loss: 0.4719 - val_accuracy: 0.7922\n",
            "Epoch 78/100\n",
            "20/20 [==============================] - 0s 4ms/step - loss: 0.3906 - accuracy: 0.8127 - val_loss: 0.4655 - val_accuracy: 0.8052\n",
            "Epoch 79/100\n",
            "20/20 [==============================] - 0s 4ms/step - loss: 0.3897 - accuracy: 0.8111 - val_loss: 0.4688 - val_accuracy: 0.7922\n",
            "Epoch 80/100\n",
            "20/20 [==============================] - 0s 4ms/step - loss: 0.3901 - accuracy: 0.8062 - val_loss: 0.4665 - val_accuracy: 0.7987\n",
            "Epoch 81/100\n",
            "20/20 [==============================] - 0s 4ms/step - loss: 0.3893 - accuracy: 0.8094 - val_loss: 0.4682 - val_accuracy: 0.8117\n",
            "Epoch 82/100\n",
            "20/20 [==============================] - 0s 4ms/step - loss: 0.3886 - accuracy: 0.8111 - val_loss: 0.4673 - val_accuracy: 0.7987\n",
            "Epoch 83/100\n",
            "20/20 [==============================] - 0s 4ms/step - loss: 0.3877 - accuracy: 0.8111 - val_loss: 0.4679 - val_accuracy: 0.7987\n",
            "Epoch 84/100\n",
            "20/20 [==============================] - 0s 4ms/step - loss: 0.3869 - accuracy: 0.8127 - val_loss: 0.4750 - val_accuracy: 0.7987\n",
            "Epoch 85/100\n",
            "20/20 [==============================] - 0s 4ms/step - loss: 0.3871 - accuracy: 0.8094 - val_loss: 0.4675 - val_accuracy: 0.8052\n",
            "Epoch 86/100\n",
            "20/20 [==============================] - 0s 4ms/step - loss: 0.3863 - accuracy: 0.8094 - val_loss: 0.4690 - val_accuracy: 0.8052\n",
            "Epoch 87/100\n",
            "20/20 [==============================] - 0s 4ms/step - loss: 0.3861 - accuracy: 0.8094 - val_loss: 0.4723 - val_accuracy: 0.7857\n",
            "Epoch 88/100\n",
            "20/20 [==============================] - 0s 4ms/step - loss: 0.3855 - accuracy: 0.8160 - val_loss: 0.4690 - val_accuracy: 0.7922\n",
            "Epoch 89/100\n",
            "20/20 [==============================] - 0s 4ms/step - loss: 0.3843 - accuracy: 0.8078 - val_loss: 0.4712 - val_accuracy: 0.7792\n",
            "Epoch 90/100\n",
            "20/20 [==============================] - 0s 4ms/step - loss: 0.3836 - accuracy: 0.8094 - val_loss: 0.4735 - val_accuracy: 0.7857\n",
            "Epoch 91/100\n",
            "20/20 [==============================] - 0s 3ms/step - loss: 0.3837 - accuracy: 0.8046 - val_loss: 0.4678 - val_accuracy: 0.7922\n",
            "Epoch 92/100\n",
            "20/20 [==============================] - 0s 4ms/step - loss: 0.3834 - accuracy: 0.8176 - val_loss: 0.4697 - val_accuracy: 0.7922\n",
            "Epoch 93/100\n",
            "20/20 [==============================] - 0s 4ms/step - loss: 0.3827 - accuracy: 0.8111 - val_loss: 0.4700 - val_accuracy: 0.7922\n",
            "Epoch 94/100\n",
            "20/20 [==============================] - 0s 5ms/step - loss: 0.3818 - accuracy: 0.8094 - val_loss: 0.4672 - val_accuracy: 0.7987\n",
            "Epoch 95/100\n",
            "20/20 [==============================] - 0s 4ms/step - loss: 0.3813 - accuracy: 0.8062 - val_loss: 0.4715 - val_accuracy: 0.7922\n",
            "Epoch 96/100\n",
            "20/20 [==============================] - 0s 4ms/step - loss: 0.3806 - accuracy: 0.8192 - val_loss: 0.4729 - val_accuracy: 0.7857\n",
            "Epoch 97/100\n",
            "20/20 [==============================] - 0s 4ms/step - loss: 0.3812 - accuracy: 0.8094 - val_loss: 0.4712 - val_accuracy: 0.7922\n",
            "Epoch 98/100\n",
            "20/20 [==============================] - 0s 5ms/step - loss: 0.3804 - accuracy: 0.8143 - val_loss: 0.4701 - val_accuracy: 0.8052\n",
            "Epoch 99/100\n",
            "20/20 [==============================] - 0s 3ms/step - loss: 0.3800 - accuracy: 0.8094 - val_loss: 0.4761 - val_accuracy: 0.7987\n",
            "Epoch 100/100\n",
            "20/20 [==============================] - 0s 4ms/step - loss: 0.3800 - accuracy: 0.8160 - val_loss: 0.4764 - val_accuracy: 0.7922\n"
          ]
        },
        {
          "output_type": "execute_result",
          "data": {
            "text/plain": [
              "<keras.callbacks.History at 0x7d59d65a4790>"
            ]
          },
          "metadata": {},
          "execution_count": 32
        }
      ]
    },
    {
      "cell_type": "markdown",
      "source": [
        "# How to select no. of hidden layers"
      ],
      "metadata": {
        "id": "1WygrIXWK2RW"
      }
    },
    {
      "cell_type": "code",
      "source": [
        "def build_model(hp):\n",
        "  model = Sequential()\n",
        "  model.add(Dense(72, activation = \"relu\", input_dim = 8))\n",
        "  for i in range(hp.Int(name = \"num_layers\", min_value = 1, max_value =10)):\n",
        "    model.add(Dense(72, activation = \"relu\"))\n",
        "  model.add(Dense(1, activation = \"sigmoid\"))\n",
        "  model.compile(optimizer = \"rmsprop\", loss = \"binary_crossentropy\", metrics = [\"accuracy\"])\n",
        "  return model"
      ],
      "metadata": {
        "id": "EYNTbhj2iSMm"
      },
      "execution_count": 33,
      "outputs": []
    },
    {
      "cell_type": "code",
      "source": [
        "tuner3 = kt.RandomSearch(build_model, max_trials = 5, objective=\"val_accuracy\",directory = \"my_dir2\",project_name = \"srk\")"
      ],
      "metadata": {
        "id": "Pq4OOGVXMe69"
      },
      "execution_count": 34,
      "outputs": []
    },
    {
      "cell_type": "code",
      "source": [
        "tuner3.search(X_train, Y_train, epochs = 5, validation_data = (X_test, Y_test))"
      ],
      "metadata": {
        "colab": {
          "base_uri": "https://localhost:8080/"
        },
        "id": "fbc0o-eNNZ02",
        "outputId": "a2a47462-46bb-47ff-f227-38885fcb1ebf"
      },
      "execution_count": 35,
      "outputs": [
        {
          "output_type": "stream",
          "name": "stdout",
          "text": [
            "Trial 5 Complete [00h 00m 04s]\n",
            "val_accuracy: 0.7857142686843872\n",
            "\n",
            "Best val_accuracy So Far: 0.798701286315918\n",
            "Total elapsed time: 00h 00m 14s\n"
          ]
        }
      ]
    },
    {
      "cell_type": "code",
      "source": [
        "tuner3.get_best_hyperparameters()[0].values"
      ],
      "metadata": {
        "colab": {
          "base_uri": "https://localhost:8080/"
        },
        "id": "33WrfPPDM0ei",
        "outputId": "2ddb3f10-956d-49bf-d16a-9d2ebeff8a3f"
      },
      "execution_count": 36,
      "outputs": [
        {
          "output_type": "execute_result",
          "data": {
            "text/plain": [
              "{'num_layers': 7}"
            ]
          },
          "metadata": {},
          "execution_count": 36
        }
      ]
    },
    {
      "cell_type": "code",
      "source": [
        "model3 = tuner3.get_best_models(num_models = 1 )[0]"
      ],
      "metadata": {
        "id": "7RI6kuQKNhcZ"
      },
      "execution_count": 37,
      "outputs": []
    },
    {
      "cell_type": "code",
      "source": [
        "model3.summary()"
      ],
      "metadata": {
        "colab": {
          "base_uri": "https://localhost:8080/"
        },
        "id": "7i9hEyjfNo_Y",
        "outputId": "464247e8-0bfd-4b2b-c5fb-4d0d70115391"
      },
      "execution_count": 38,
      "outputs": [
        {
          "output_type": "stream",
          "name": "stdout",
          "text": [
            "Model: \"sequential\"\n",
            "_________________________________________________________________\n",
            " Layer (type)                Output Shape              Param #   \n",
            "=================================================================\n",
            " dense (Dense)               (None, 72)                648       \n",
            "                                                                 \n",
            " dense_1 (Dense)             (None, 72)                5256      \n",
            "                                                                 \n",
            " dense_2 (Dense)             (None, 72)                5256      \n",
            "                                                                 \n",
            " dense_3 (Dense)             (None, 72)                5256      \n",
            "                                                                 \n",
            " dense_4 (Dense)             (None, 72)                5256      \n",
            "                                                                 \n",
            " dense_5 (Dense)             (None, 72)                5256      \n",
            "                                                                 \n",
            " dense_6 (Dense)             (None, 72)                5256      \n",
            "                                                                 \n",
            " dense_7 (Dense)             (None, 72)                5256      \n",
            "                                                                 \n",
            " dense_8 (Dense)             (None, 1)                 73        \n",
            "                                                                 \n",
            "=================================================================\n",
            "Total params: 37,513\n",
            "Trainable params: 37,513\n",
            "Non-trainable params: 0\n",
            "_________________________________________________________________\n"
          ]
        }
      ]
    },
    {
      "cell_type": "code",
      "source": [
        "model3.fit(X_train, Y_train, epochs = 100, initial_epoch = 6,validation_data = (X_test, Y_test))"
      ],
      "metadata": {
        "colab": {
          "base_uri": "https://localhost:8080/"
        },
        "id": "SVCKv0rJNsmg",
        "outputId": "39b8ac02-68df-4a92-8079-d007a058df43"
      },
      "execution_count": 39,
      "outputs": [
        {
          "output_type": "stream",
          "name": "stdout",
          "text": [
            "Epoch 7/100\n",
            "20/20 [==============================] - 2s 26ms/step - loss: 0.4263 - accuracy: 0.8013 - val_loss: 0.6502 - val_accuracy: 0.6753\n",
            "Epoch 8/100\n",
            "20/20 [==============================] - 0s 9ms/step - loss: 0.4153 - accuracy: 0.8111 - val_loss: 0.5163 - val_accuracy: 0.7273\n",
            "Epoch 9/100\n",
            "20/20 [==============================] - 0s 7ms/step - loss: 0.4075 - accuracy: 0.7980 - val_loss: 0.4800 - val_accuracy: 0.7857\n",
            "Epoch 10/100\n",
            "20/20 [==============================] - 0s 7ms/step - loss: 0.3966 - accuracy: 0.8029 - val_loss: 0.5008 - val_accuracy: 0.7662\n",
            "Epoch 11/100\n",
            "20/20 [==============================] - 0s 8ms/step - loss: 0.3854 - accuracy: 0.8241 - val_loss: 0.4779 - val_accuracy: 0.7532\n",
            "Epoch 12/100\n",
            "20/20 [==============================] - 0s 8ms/step - loss: 0.3639 - accuracy: 0.8306 - val_loss: 0.5408 - val_accuracy: 0.7597\n",
            "Epoch 13/100\n",
            "20/20 [==============================] - 0s 5ms/step - loss: 0.3504 - accuracy: 0.8388 - val_loss: 0.5330 - val_accuracy: 0.7597\n",
            "Epoch 14/100\n",
            "20/20 [==============================] - 0s 5ms/step - loss: 0.3477 - accuracy: 0.8485 - val_loss: 0.5354 - val_accuracy: 0.7727\n",
            "Epoch 15/100\n",
            "20/20 [==============================] - 0s 6ms/step - loss: 0.3224 - accuracy: 0.8453 - val_loss: 0.5982 - val_accuracy: 0.7727\n",
            "Epoch 16/100\n",
            "20/20 [==============================] - 0s 4ms/step - loss: 0.3197 - accuracy: 0.8616 - val_loss: 0.6927 - val_accuracy: 0.6883\n",
            "Epoch 17/100\n",
            "20/20 [==============================] - 0s 6ms/step - loss: 0.3066 - accuracy: 0.8713 - val_loss: 0.6798 - val_accuracy: 0.7143\n",
            "Epoch 18/100\n",
            "20/20 [==============================] - 0s 5ms/step - loss: 0.2836 - accuracy: 0.8811 - val_loss: 0.7865 - val_accuracy: 0.7078\n",
            "Epoch 19/100\n",
            "20/20 [==============================] - 0s 5ms/step - loss: 0.2777 - accuracy: 0.8844 - val_loss: 0.6047 - val_accuracy: 0.7338\n",
            "Epoch 20/100\n",
            "20/20 [==============================] - 0s 5ms/step - loss: 0.2668 - accuracy: 0.8925 - val_loss: 0.7178 - val_accuracy: 0.7468\n",
            "Epoch 21/100\n",
            "20/20 [==============================] - 0s 7ms/step - loss: 0.2625 - accuracy: 0.8974 - val_loss: 0.7397 - val_accuracy: 0.7468\n",
            "Epoch 22/100\n",
            "20/20 [==============================] - 0s 9ms/step - loss: 0.2430 - accuracy: 0.8941 - val_loss: 0.9429 - val_accuracy: 0.6948\n",
            "Epoch 23/100\n",
            "20/20 [==============================] - 0s 10ms/step - loss: 0.2152 - accuracy: 0.9267 - val_loss: 1.0692 - val_accuracy: 0.7013\n",
            "Epoch 24/100\n",
            "20/20 [==============================] - 0s 9ms/step - loss: 0.2369 - accuracy: 0.9039 - val_loss: 0.8376 - val_accuracy: 0.7078\n",
            "Epoch 25/100\n",
            "20/20 [==============================] - 0s 12ms/step - loss: 0.1933 - accuracy: 0.9251 - val_loss: 0.8648 - val_accuracy: 0.7468\n",
            "Epoch 26/100\n",
            "20/20 [==============================] - 0s 8ms/step - loss: 0.1906 - accuracy: 0.9251 - val_loss: 0.7904 - val_accuracy: 0.7013\n",
            "Epoch 27/100\n",
            "20/20 [==============================] - 0s 10ms/step - loss: 0.1523 - accuracy: 0.9414 - val_loss: 1.0541 - val_accuracy: 0.7143\n",
            "Epoch 28/100\n",
            "20/20 [==============================] - 0s 10ms/step - loss: 0.1624 - accuracy: 0.9528 - val_loss: 1.0581 - val_accuracy: 0.7208\n",
            "Epoch 29/100\n",
            "20/20 [==============================] - 0s 7ms/step - loss: 0.1723 - accuracy: 0.9381 - val_loss: 1.0479 - val_accuracy: 0.6948\n",
            "Epoch 30/100\n",
            "20/20 [==============================] - 0s 8ms/step - loss: 0.1485 - accuracy: 0.9479 - val_loss: 1.1235 - val_accuracy: 0.7013\n",
            "Epoch 31/100\n",
            "20/20 [==============================] - 0s 10ms/step - loss: 0.1262 - accuracy: 0.9560 - val_loss: 1.1686 - val_accuracy: 0.7468\n",
            "Epoch 32/100\n",
            "20/20 [==============================] - 0s 8ms/step - loss: 0.1470 - accuracy: 0.9528 - val_loss: 1.2611 - val_accuracy: 0.7013\n",
            "Epoch 33/100\n",
            "20/20 [==============================] - 0s 7ms/step - loss: 0.1138 - accuracy: 0.9560 - val_loss: 1.3623 - val_accuracy: 0.7273\n",
            "Epoch 34/100\n",
            "20/20 [==============================] - 0s 10ms/step - loss: 0.1128 - accuracy: 0.9642 - val_loss: 1.2904 - val_accuracy: 0.6948\n",
            "Epoch 35/100\n",
            "20/20 [==============================] - 0s 16ms/step - loss: 0.1621 - accuracy: 0.9397 - val_loss: 1.2403 - val_accuracy: 0.7078\n",
            "Epoch 36/100\n",
            "20/20 [==============================] - 0s 11ms/step - loss: 0.1072 - accuracy: 0.9691 - val_loss: 1.3260 - val_accuracy: 0.7208\n",
            "Epoch 37/100\n",
            "20/20 [==============================] - 0s 9ms/step - loss: 0.0940 - accuracy: 0.9691 - val_loss: 1.7342 - val_accuracy: 0.6883\n",
            "Epoch 38/100\n",
            "20/20 [==============================] - 0s 15ms/step - loss: 0.1204 - accuracy: 0.9544 - val_loss: 1.4840 - val_accuracy: 0.6883\n",
            "Epoch 39/100\n",
            "20/20 [==============================] - 0s 12ms/step - loss: 0.0521 - accuracy: 0.9837 - val_loss: 1.6368 - val_accuracy: 0.7078\n",
            "Epoch 40/100\n",
            "20/20 [==============================] - 0s 9ms/step - loss: 0.1239 - accuracy: 0.9560 - val_loss: 1.6771 - val_accuracy: 0.7273\n",
            "Epoch 41/100\n",
            "20/20 [==============================] - 0s 9ms/step - loss: 0.0810 - accuracy: 0.9707 - val_loss: 1.5150 - val_accuracy: 0.7013\n",
            "Epoch 42/100\n",
            "20/20 [==============================] - 0s 9ms/step - loss: 0.0633 - accuracy: 0.9805 - val_loss: 1.7362 - val_accuracy: 0.6948\n",
            "Epoch 43/100\n",
            "20/20 [==============================] - 0s 8ms/step - loss: 0.0831 - accuracy: 0.9674 - val_loss: 1.8002 - val_accuracy: 0.7013\n",
            "Epoch 44/100\n",
            "20/20 [==============================] - 0s 12ms/step - loss: 0.1007 - accuracy: 0.9642 - val_loss: 1.5922 - val_accuracy: 0.6818\n",
            "Epoch 45/100\n",
            "20/20 [==============================] - 0s 8ms/step - loss: 0.0280 - accuracy: 0.9919 - val_loss: 1.9726 - val_accuracy: 0.7078\n",
            "Epoch 46/100\n",
            "20/20 [==============================] - 0s 9ms/step - loss: 0.0953 - accuracy: 0.9707 - val_loss: 1.7395 - val_accuracy: 0.6883\n",
            "Epoch 47/100\n",
            "20/20 [==============================] - 0s 8ms/step - loss: 0.0473 - accuracy: 0.9821 - val_loss: 1.7109 - val_accuracy: 0.7078\n",
            "Epoch 48/100\n",
            "20/20 [==============================] - 0s 11ms/step - loss: 0.0920 - accuracy: 0.9707 - val_loss: 1.8931 - val_accuracy: 0.6818\n",
            "Epoch 49/100\n",
            "20/20 [==============================] - 0s 12ms/step - loss: 0.0250 - accuracy: 0.9902 - val_loss: 1.9260 - val_accuracy: 0.7078\n",
            "Epoch 50/100\n",
            "20/20 [==============================] - 0s 13ms/step - loss: 0.0968 - accuracy: 0.9658 - val_loss: 1.7513 - val_accuracy: 0.7208\n",
            "Epoch 51/100\n",
            "20/20 [==============================] - 0s 12ms/step - loss: 0.0190 - accuracy: 0.9919 - val_loss: 1.9336 - val_accuracy: 0.6883\n",
            "Epoch 52/100\n",
            "20/20 [==============================] - 0s 7ms/step - loss: 0.0790 - accuracy: 0.9723 - val_loss: 1.9064 - val_accuracy: 0.7143\n",
            "Epoch 53/100\n",
            "20/20 [==============================] - 0s 8ms/step - loss: 0.0215 - accuracy: 0.9919 - val_loss: 1.9678 - val_accuracy: 0.7143\n",
            "Epoch 54/100\n",
            "20/20 [==============================] - 0s 9ms/step - loss: 0.1037 - accuracy: 0.9658 - val_loss: 2.1004 - val_accuracy: 0.7078\n",
            "Epoch 55/100\n",
            "20/20 [==============================] - 0s 9ms/step - loss: 0.0292 - accuracy: 0.9919 - val_loss: 2.1459 - val_accuracy: 0.6883\n",
            "Epoch 56/100\n",
            "20/20 [==============================] - 0s 10ms/step - loss: 0.0150 - accuracy: 0.9935 - val_loss: 2.3044 - val_accuracy: 0.7273\n",
            "Epoch 57/100\n",
            "20/20 [==============================] - 0s 11ms/step - loss: 0.0460 - accuracy: 0.9886 - val_loss: 2.3334 - val_accuracy: 0.6883\n",
            "Epoch 58/100\n",
            "20/20 [==============================] - 0s 8ms/step - loss: 0.0732 - accuracy: 0.9837 - val_loss: 1.9672 - val_accuracy: 0.7078\n",
            "Epoch 59/100\n",
            "20/20 [==============================] - 0s 14ms/step - loss: 0.0291 - accuracy: 0.9967 - val_loss: 2.1391 - val_accuracy: 0.7013\n",
            "Epoch 60/100\n",
            "20/20 [==============================] - 0s 9ms/step - loss: 0.0024 - accuracy: 1.0000 - val_loss: 2.4265 - val_accuracy: 0.7143\n",
            "Epoch 61/100\n",
            "20/20 [==============================] - 0s 8ms/step - loss: 0.1167 - accuracy: 0.9658 - val_loss: 2.1614 - val_accuracy: 0.6883\n",
            "Epoch 62/100\n",
            "20/20 [==============================] - 0s 10ms/step - loss: 0.0090 - accuracy: 0.9984 - val_loss: 2.2869 - val_accuracy: 0.6883\n",
            "Epoch 63/100\n",
            "20/20 [==============================] - 0s 8ms/step - loss: 0.0012 - accuracy: 1.0000 - val_loss: 2.5491 - val_accuracy: 0.6948\n",
            "Epoch 64/100\n",
            "20/20 [==============================] - 0s 9ms/step - loss: 6.5574e-04 - accuracy: 1.0000 - val_loss: 2.8073 - val_accuracy: 0.6883\n",
            "Epoch 65/100\n",
            "20/20 [==============================] - 0s 22ms/step - loss: 2.8976e-04 - accuracy: 1.0000 - val_loss: 3.0480 - val_accuracy: 0.6883\n",
            "Epoch 66/100\n",
            "20/20 [==============================] - 0s 18ms/step - loss: 0.0022 - accuracy: 0.9984 - val_loss: 3.1276 - val_accuracy: 0.6883\n",
            "Epoch 67/100\n",
            "20/20 [==============================] - 0s 20ms/step - loss: 0.2102 - accuracy: 0.9593 - val_loss: 2.3093 - val_accuracy: 0.6688\n",
            "Epoch 68/100\n",
            "20/20 [==============================] - 0s 13ms/step - loss: 0.0252 - accuracy: 0.9935 - val_loss: 2.4372 - val_accuracy: 0.6883\n",
            "Epoch 69/100\n",
            "20/20 [==============================] - 0s 14ms/step - loss: 0.0146 - accuracy: 0.9935 - val_loss: 2.5161 - val_accuracy: 0.6818\n",
            "Epoch 70/100\n",
            "20/20 [==============================] - 0s 13ms/step - loss: 0.0622 - accuracy: 0.9756 - val_loss: 2.6698 - val_accuracy: 0.6948\n",
            "Epoch 71/100\n",
            "20/20 [==============================] - 0s 15ms/step - loss: 0.0263 - accuracy: 0.9935 - val_loss: 2.3760 - val_accuracy: 0.6948\n",
            "Epoch 72/100\n",
            "20/20 [==============================] - 0s 15ms/step - loss: 0.0153 - accuracy: 0.9984 - val_loss: 2.6107 - val_accuracy: 0.7013\n",
            "Epoch 73/100\n",
            "20/20 [==============================] - 0s 15ms/step - loss: 0.0697 - accuracy: 0.9837 - val_loss: 2.1396 - val_accuracy: 0.6818\n",
            "Epoch 74/100\n",
            "20/20 [==============================] - 0s 14ms/step - loss: 0.0047 - accuracy: 0.9984 - val_loss: 2.4251 - val_accuracy: 0.6818\n",
            "Epoch 75/100\n",
            "20/20 [==============================] - 0s 14ms/step - loss: 0.0011 - accuracy: 1.0000 - val_loss: 2.7196 - val_accuracy: 0.6818\n",
            "Epoch 76/100\n",
            "20/20 [==============================] - 0s 17ms/step - loss: 4.1268e-04 - accuracy: 1.0000 - val_loss: 3.0289 - val_accuracy: 0.6818\n",
            "Epoch 77/100\n",
            "20/20 [==============================] - 0s 13ms/step - loss: 0.0589 - accuracy: 0.9886 - val_loss: 2.8037 - val_accuracy: 0.6688\n",
            "Epoch 78/100\n",
            "20/20 [==============================] - 0s 16ms/step - loss: 0.0841 - accuracy: 0.9805 - val_loss: 2.5620 - val_accuracy: 0.6753\n",
            "Epoch 79/100\n",
            "20/20 [==============================] - 0s 25ms/step - loss: 0.0296 - accuracy: 0.9935 - val_loss: 2.4025 - val_accuracy: 0.6753\n",
            "Epoch 80/100\n",
            "20/20 [==============================] - 1s 28ms/step - loss: 0.0014 - accuracy: 1.0000 - val_loss: 2.6168 - val_accuracy: 0.6883\n",
            "Epoch 81/100\n",
            "20/20 [==============================] - 0s 15ms/step - loss: 7.3102e-04 - accuracy: 1.0000 - val_loss: 2.8593 - val_accuracy: 0.6818\n",
            "Epoch 82/100\n",
            "20/20 [==============================] - 0s 12ms/step - loss: 2.7384e-04 - accuracy: 1.0000 - val_loss: 3.1162 - val_accuracy: 0.6883\n",
            "Epoch 83/100\n",
            "20/20 [==============================] - 0s 16ms/step - loss: 1.9333e-04 - accuracy: 1.0000 - val_loss: 3.3965 - val_accuracy: 0.6948\n",
            "Epoch 84/100\n",
            "20/20 [==============================] - 0s 14ms/step - loss: 6.5001e-05 - accuracy: 1.0000 - val_loss: 3.5484 - val_accuracy: 0.6883\n",
            "Epoch 85/100\n",
            "20/20 [==============================] - 0s 16ms/step - loss: 4.0478e-05 - accuracy: 1.0000 - val_loss: 3.6470 - val_accuracy: 0.6948\n",
            "Epoch 86/100\n",
            "20/20 [==============================] - 0s 18ms/step - loss: 2.6735e-05 - accuracy: 1.0000 - val_loss: 3.8406 - val_accuracy: 0.6883\n",
            "Epoch 87/100\n",
            "20/20 [==============================] - 0s 17ms/step - loss: 1.8190e-05 - accuracy: 1.0000 - val_loss: 3.8994 - val_accuracy: 0.6883\n",
            "Epoch 88/100\n",
            "20/20 [==============================] - 0s 18ms/step - loss: 1.3757e-05 - accuracy: 1.0000 - val_loss: 3.9266 - val_accuracy: 0.6818\n",
            "Epoch 89/100\n",
            "20/20 [==============================] - 0s 18ms/step - loss: 1.1809e-05 - accuracy: 1.0000 - val_loss: 4.0286 - val_accuracy: 0.6883\n",
            "Epoch 90/100\n",
            "20/20 [==============================] - 0s 16ms/step - loss: 9.3857e-06 - accuracy: 1.0000 - val_loss: 4.0889 - val_accuracy: 0.6818\n",
            "Epoch 91/100\n",
            "20/20 [==============================] - 0s 15ms/step - loss: 8.2531e-06 - accuracy: 1.0000 - val_loss: 4.1128 - val_accuracy: 0.6818\n",
            "Epoch 92/100\n",
            "20/20 [==============================] - 0s 11ms/step - loss: 7.2543e-06 - accuracy: 1.0000 - val_loss: 4.1426 - val_accuracy: 0.6818\n",
            "Epoch 93/100\n",
            "20/20 [==============================] - 0s 9ms/step - loss: 6.5091e-06 - accuracy: 1.0000 - val_loss: 4.1701 - val_accuracy: 0.6818\n",
            "Epoch 94/100\n",
            "20/20 [==============================] - 0s 9ms/step - loss: 5.8785e-06 - accuracy: 1.0000 - val_loss: 4.1919 - val_accuracy: 0.6818\n",
            "Epoch 95/100\n",
            "20/20 [==============================] - 0s 14ms/step - loss: 5.4277e-06 - accuracy: 1.0000 - val_loss: 4.2228 - val_accuracy: 0.6818\n",
            "Epoch 96/100\n",
            "20/20 [==============================] - 0s 21ms/step - loss: 4.9821e-06 - accuracy: 1.0000 - val_loss: 4.2448 - val_accuracy: 0.6818\n",
            "Epoch 97/100\n",
            "20/20 [==============================] - 0s 23ms/step - loss: 4.6125e-06 - accuracy: 1.0000 - val_loss: 4.2798 - val_accuracy: 0.6818\n",
            "Epoch 98/100\n",
            "20/20 [==============================] - 0s 10ms/step - loss: 4.2900e-06 - accuracy: 1.0000 - val_loss: 4.2990 - val_accuracy: 0.6818\n",
            "Epoch 99/100\n",
            "20/20 [==============================] - 0s 8ms/step - loss: 4.0259e-06 - accuracy: 1.0000 - val_loss: 4.3086 - val_accuracy: 0.6818\n",
            "Epoch 100/100\n",
            "20/20 [==============================] - 0s 17ms/step - loss: 3.7943e-06 - accuracy: 1.0000 - val_loss: 4.3235 - val_accuracy: 0.6818\n"
          ]
        },
        {
          "output_type": "execute_result",
          "data": {
            "text/plain": [
              "<keras.callbacks.History at 0x7d59d639c8e0>"
            ]
          },
          "metadata": {},
          "execution_count": 39
        }
      ]
    },
    {
      "cell_type": "markdown",
      "source": [
        "# All in one model"
      ],
      "metadata": {
        "id": "34ObWi2CQH0-"
      }
    },
    {
      "cell_type": "code",
      "source": [
        "def build_model(hp):\n",
        "  model = Sequential()\n",
        "  counter = 0\n",
        "  for i in  range(hp.Int(name = \"min_layers\", min_value = 1, max_value = 10)):\n",
        "    if counter == 0:\n",
        "      model.add(Dense(units = hp.Int(\"units\"+str(i),min_value = 8, max_value = 128, step = 8), activation = hp.Choice(\"activation\"+str(i), values = [\"relu\", \"tanh\", \"sigmoid\"]), input_dim = 8))\n",
        "      model.add(Dropout(hp.Choice(\"Dropout\"+str(i), values = [0.1,0.2,0.3,0.4,0.5,0.6,0.7,0.8,0.9])))\n",
        "    else:\n",
        "      model.add(Dense(units = hp.Int(\"units\"+str(i),min_value = 8, max_value = 128, step = 8), activation = hp.Choice(\"activation\"+str(i), values = [\"relu\", \"tanh\", \"sigmoid\"])))\n",
        "      model.add(Dropout(hp.Choice(\"Dropout\"+str(i), values = [0.1,0.2,0.3,0.4,0.5,0.6,0.7,0.8,0.9])))\n",
        "    counter += 1\n",
        "  model.add(Dense(units = 1, activation = \"sigmoid\"))\n",
        "  model.compile(optimizer = hp.Choice(\"otimizer\", values = [\"rmsprop\", \"adam\", \"adadelta\", \"sgd\"]), loss = \"binary_crossentropy\", metrics= [\"accuracy\"])\n",
        "  return model"
      ],
      "metadata": {
        "id": "kCX1ZENvN2uO"
      },
      "execution_count": 50,
      "outputs": []
    },
    {
      "cell_type": "code",
      "source": [
        "tunerAll = kt.RandomSearch(build_model,max_trials = 5, objective=\"val_accuracy\",directory = \"AllInOne\",project_name = \"AllHyperParamDropout\" )"
      ],
      "metadata": {
        "id": "gFfFyZ5rjF-p"
      },
      "execution_count": 51,
      "outputs": []
    },
    {
      "cell_type": "code",
      "source": [
        "tunerAll.search(X_train, Y_train, epochs = 5, validation_data = (X_test, Y_test))"
      ],
      "metadata": {
        "colab": {
          "base_uri": "https://localhost:8080/"
        },
        "id": "0UYMpnSzjYPX",
        "outputId": "c0af301c-af94-4975-f37b-56dcab40ffd3"
      },
      "execution_count": 52,
      "outputs": [
        {
          "output_type": "stream",
          "name": "stdout",
          "text": [
            "Trial 5 Complete [00h 00m 04s]\n",
            "val_accuracy: 0.7077922224998474\n",
            "\n",
            "Best val_accuracy So Far: 0.7077922224998474\n",
            "Total elapsed time: 00h 00m 15s\n"
          ]
        }
      ]
    },
    {
      "cell_type": "code",
      "source": [
        "tunerAll.get_best_hyperparameters()[0].values"
      ],
      "metadata": {
        "colab": {
          "base_uri": "https://localhost:8080/"
        },
        "id": "SZ6OemZbjlqH",
        "outputId": "c2b6dc12-ed38-4d57-cb3e-424d1d3a3a9e"
      },
      "execution_count": 53,
      "outputs": [
        {
          "output_type": "execute_result",
          "data": {
            "text/plain": [
              "{'min_layers': 8,\n",
              " 'units0': 56,\n",
              " 'activation0': 'sigmoid',\n",
              " 'Dropout0': 0.8,\n",
              " 'otimizer': 'sgd',\n",
              " 'units1': 8,\n",
              " 'activation1': 'relu',\n",
              " 'Dropout1': 0.1,\n",
              " 'units2': 8,\n",
              " 'activation2': 'relu',\n",
              " 'Dropout2': 0.1,\n",
              " 'units3': 8,\n",
              " 'activation3': 'relu',\n",
              " 'Dropout3': 0.1,\n",
              " 'units4': 8,\n",
              " 'activation4': 'relu',\n",
              " 'Dropout4': 0.1,\n",
              " 'units5': 8,\n",
              " 'activation5': 'relu',\n",
              " 'Dropout5': 0.1,\n",
              " 'units6': 8,\n",
              " 'activation6': 'relu',\n",
              " 'Dropout6': 0.1,\n",
              " 'units7': 8,\n",
              " 'activation7': 'relu',\n",
              " 'Dropout7': 0.1}"
            ]
          },
          "metadata": {},
          "execution_count": 53
        }
      ]
    },
    {
      "cell_type": "code",
      "source": [
        "model = tunerAll.get_best_models(num_models = 1)[0]"
      ],
      "metadata": {
        "id": "1k7ju_X7jmC7"
      },
      "execution_count": 54,
      "outputs": []
    },
    {
      "cell_type": "code",
      "source": [
        "model.fit(X_train, Y_train, epochs = 200,initial_epoch = 5, validation_data = (X_test, Y_test))"
      ],
      "metadata": {
        "colab": {
          "base_uri": "https://localhost:8080/"
        },
        "id": "WZ4dyxdsj20x",
        "outputId": "95e092a7-d884-465f-d82d-72c70819ccac"
      },
      "execution_count": 55,
      "outputs": [
        {
          "output_type": "stream",
          "name": "stdout",
          "text": [
            "Epoch 6/200\n",
            "20/20 [==============================] - 2s 15ms/step - loss: 0.6961 - accuracy: 0.5326 - val_loss: 0.6789 - val_accuracy: 0.7078\n",
            "Epoch 7/200\n",
            "20/20 [==============================] - 0s 4ms/step - loss: 0.6895 - accuracy: 0.5684 - val_loss: 0.6732 - val_accuracy: 0.7078\n",
            "Epoch 8/200\n",
            "20/20 [==============================] - 0s 4ms/step - loss: 0.6838 - accuracy: 0.6107 - val_loss: 0.6679 - val_accuracy: 0.7078\n",
            "Epoch 9/200\n",
            "20/20 [==============================] - 0s 5ms/step - loss: 0.6795 - accuracy: 0.6156 - val_loss: 0.6633 - val_accuracy: 0.7078\n",
            "Epoch 10/200\n",
            "20/20 [==============================] - 0s 4ms/step - loss: 0.6741 - accuracy: 0.6384 - val_loss: 0.6584 - val_accuracy: 0.7078\n",
            "Epoch 11/200\n",
            "20/20 [==============================] - 0s 5ms/step - loss: 0.6741 - accuracy: 0.6221 - val_loss: 0.6537 - val_accuracy: 0.7078\n",
            "Epoch 12/200\n",
            "20/20 [==============================] - 0s 6ms/step - loss: 0.6715 - accuracy: 0.6254 - val_loss: 0.6507 - val_accuracy: 0.7078\n",
            "Epoch 13/200\n",
            "20/20 [==============================] - 0s 4ms/step - loss: 0.6701 - accuracy: 0.6319 - val_loss: 0.6477 - val_accuracy: 0.7078\n",
            "Epoch 14/200\n",
            "20/20 [==============================] - 0s 5ms/step - loss: 0.6677 - accuracy: 0.6336 - val_loss: 0.6444 - val_accuracy: 0.7078\n",
            "Epoch 15/200\n",
            "20/20 [==============================] - 0s 5ms/step - loss: 0.6656 - accuracy: 0.6319 - val_loss: 0.6414 - val_accuracy: 0.7078\n",
            "Epoch 16/200\n",
            "20/20 [==============================] - 0s 5ms/step - loss: 0.6636 - accuracy: 0.6336 - val_loss: 0.6388 - val_accuracy: 0.7078\n",
            "Epoch 17/200\n",
            "20/20 [==============================] - 0s 5ms/step - loss: 0.6626 - accuracy: 0.6352 - val_loss: 0.6369 - val_accuracy: 0.7078\n",
            "Epoch 18/200\n",
            "20/20 [==============================] - 0s 4ms/step - loss: 0.6611 - accuracy: 0.6336 - val_loss: 0.6348 - val_accuracy: 0.7078\n",
            "Epoch 19/200\n",
            "20/20 [==============================] - 0s 4ms/step - loss: 0.6604 - accuracy: 0.6384 - val_loss: 0.6328 - val_accuracy: 0.7078\n",
            "Epoch 20/200\n",
            "20/20 [==============================] - 0s 5ms/step - loss: 0.6617 - accuracy: 0.6303 - val_loss: 0.6316 - val_accuracy: 0.7078\n",
            "Epoch 21/200\n",
            "20/20 [==============================] - 0s 5ms/step - loss: 0.6610 - accuracy: 0.6352 - val_loss: 0.6301 - val_accuracy: 0.7078\n",
            "Epoch 22/200\n",
            "20/20 [==============================] - 0s 6ms/step - loss: 0.6604 - accuracy: 0.6368 - val_loss: 0.6289 - val_accuracy: 0.7078\n",
            "Epoch 23/200\n",
            "20/20 [==============================] - 0s 5ms/step - loss: 0.6581 - accuracy: 0.6352 - val_loss: 0.6276 - val_accuracy: 0.7078\n",
            "Epoch 24/200\n",
            "20/20 [==============================] - 0s 4ms/step - loss: 0.6572 - accuracy: 0.6368 - val_loss: 0.6270 - val_accuracy: 0.7078\n",
            "Epoch 25/200\n",
            "20/20 [==============================] - 0s 4ms/step - loss: 0.6598 - accuracy: 0.6352 - val_loss: 0.6258 - val_accuracy: 0.7078\n",
            "Epoch 26/200\n",
            "20/20 [==============================] - 0s 5ms/step - loss: 0.6577 - accuracy: 0.6384 - val_loss: 0.6247 - val_accuracy: 0.7078\n",
            "Epoch 27/200\n",
            "20/20 [==============================] - 0s 5ms/step - loss: 0.6572 - accuracy: 0.6336 - val_loss: 0.6239 - val_accuracy: 0.7078\n",
            "Epoch 28/200\n",
            "20/20 [==============================] - 0s 4ms/step - loss: 0.6559 - accuracy: 0.6384 - val_loss: 0.6230 - val_accuracy: 0.7078\n",
            "Epoch 29/200\n",
            "20/20 [==============================] - 0s 4ms/step - loss: 0.6563 - accuracy: 0.6368 - val_loss: 0.6226 - val_accuracy: 0.7078\n",
            "Epoch 30/200\n",
            "20/20 [==============================] - 0s 5ms/step - loss: 0.6559 - accuracy: 0.6352 - val_loss: 0.6219 - val_accuracy: 0.7078\n",
            "Epoch 31/200\n",
            "20/20 [==============================] - 0s 5ms/step - loss: 0.6556 - accuracy: 0.6368 - val_loss: 0.6209 - val_accuracy: 0.7078\n",
            "Epoch 32/200\n",
            "20/20 [==============================] - 0s 5ms/step - loss: 0.6566 - accuracy: 0.6384 - val_loss: 0.6204 - val_accuracy: 0.7078\n",
            "Epoch 33/200\n",
            "20/20 [==============================] - 0s 4ms/step - loss: 0.6584 - accuracy: 0.6368 - val_loss: 0.6199 - val_accuracy: 0.7078\n",
            "Epoch 34/200\n",
            "20/20 [==============================] - 0s 5ms/step - loss: 0.6546 - accuracy: 0.6368 - val_loss: 0.6193 - val_accuracy: 0.7078\n",
            "Epoch 35/200\n",
            "20/20 [==============================] - 0s 19ms/step - loss: 0.6537 - accuracy: 0.6352 - val_loss: 0.6187 - val_accuracy: 0.7078\n",
            "Epoch 36/200\n",
            "20/20 [==============================] - 0s 20ms/step - loss: 0.6566 - accuracy: 0.6336 - val_loss: 0.6183 - val_accuracy: 0.7078\n",
            "Epoch 37/200\n",
            "20/20 [==============================] - 0s 17ms/step - loss: 0.6564 - accuracy: 0.6368 - val_loss: 0.6179 - val_accuracy: 0.7078\n",
            "Epoch 38/200\n",
            "20/20 [==============================] - 0s 9ms/step - loss: 0.6559 - accuracy: 0.6368 - val_loss: 0.6179 - val_accuracy: 0.7078\n",
            "Epoch 39/200\n",
            "20/20 [==============================] - 0s 4ms/step - loss: 0.6547 - accuracy: 0.6368 - val_loss: 0.6174 - val_accuracy: 0.7078\n",
            "Epoch 40/200\n",
            "20/20 [==============================] - 0s 5ms/step - loss: 0.6547 - accuracy: 0.6368 - val_loss: 0.6170 - val_accuracy: 0.7078\n",
            "Epoch 41/200\n",
            "20/20 [==============================] - 0s 6ms/step - loss: 0.6552 - accuracy: 0.6368 - val_loss: 0.6167 - val_accuracy: 0.7078\n",
            "Epoch 42/200\n",
            "20/20 [==============================] - 0s 15ms/step - loss: 0.6571 - accuracy: 0.6368 - val_loss: 0.6166 - val_accuracy: 0.7078\n",
            "Epoch 43/200\n",
            "20/20 [==============================] - 0s 19ms/step - loss: 0.6540 - accuracy: 0.6368 - val_loss: 0.6166 - val_accuracy: 0.7078\n",
            "Epoch 44/200\n",
            "20/20 [==============================] - 0s 12ms/step - loss: 0.6572 - accuracy: 0.6368 - val_loss: 0.6162 - val_accuracy: 0.7078\n",
            "Epoch 45/200\n",
            "20/20 [==============================] - 0s 10ms/step - loss: 0.6576 - accuracy: 0.6352 - val_loss: 0.6160 - val_accuracy: 0.7078\n",
            "Epoch 46/200\n",
            "20/20 [==============================] - 0s 12ms/step - loss: 0.6560 - accuracy: 0.6368 - val_loss: 0.6157 - val_accuracy: 0.7078\n",
            "Epoch 47/200\n",
            "20/20 [==============================] - 0s 5ms/step - loss: 0.6545 - accuracy: 0.6368 - val_loss: 0.6154 - val_accuracy: 0.7078\n",
            "Epoch 48/200\n",
            "20/20 [==============================] - 0s 7ms/step - loss: 0.6575 - accuracy: 0.6352 - val_loss: 0.6156 - val_accuracy: 0.7078\n",
            "Epoch 49/200\n",
            "20/20 [==============================] - 0s 18ms/step - loss: 0.6569 - accuracy: 0.6368 - val_loss: 0.6155 - val_accuracy: 0.7078\n",
            "Epoch 50/200\n",
            "20/20 [==============================] - 1s 35ms/step - loss: 0.6584 - accuracy: 0.6352 - val_loss: 0.6155 - val_accuracy: 0.7078\n",
            "Epoch 51/200\n",
            "20/20 [==============================] - 1s 35ms/step - loss: 0.6566 - accuracy: 0.6368 - val_loss: 0.6159 - val_accuracy: 0.7078\n",
            "Epoch 52/200\n",
            "20/20 [==============================] - 0s 25ms/step - loss: 0.6558 - accuracy: 0.6368 - val_loss: 0.6160 - val_accuracy: 0.7078\n",
            "Epoch 53/200\n",
            "20/20 [==============================] - 0s 12ms/step - loss: 0.6578 - accuracy: 0.6368 - val_loss: 0.6159 - val_accuracy: 0.7078\n",
            "Epoch 54/200\n",
            "20/20 [==============================] - 0s 8ms/step - loss: 0.6548 - accuracy: 0.6352 - val_loss: 0.6157 - val_accuracy: 0.7078\n",
            "Epoch 55/200\n",
            "20/20 [==============================] - 0s 8ms/step - loss: 0.6540 - accuracy: 0.6368 - val_loss: 0.6155 - val_accuracy: 0.7078\n",
            "Epoch 56/200\n",
            "20/20 [==============================] - 0s 7ms/step - loss: 0.6575 - accuracy: 0.6368 - val_loss: 0.6155 - val_accuracy: 0.7078\n",
            "Epoch 57/200\n",
            "20/20 [==============================] - 0s 6ms/step - loss: 0.6550 - accuracy: 0.6368 - val_loss: 0.6152 - val_accuracy: 0.7078\n",
            "Epoch 58/200\n",
            "20/20 [==============================] - 0s 8ms/step - loss: 0.6560 - accuracy: 0.6368 - val_loss: 0.6153 - val_accuracy: 0.7078\n",
            "Epoch 59/200\n",
            "20/20 [==============================] - 0s 7ms/step - loss: 0.6549 - accuracy: 0.6368 - val_loss: 0.6156 - val_accuracy: 0.7078\n",
            "Epoch 60/200\n",
            "20/20 [==============================] - 0s 7ms/step - loss: 0.6563 - accuracy: 0.6352 - val_loss: 0.6154 - val_accuracy: 0.7078\n",
            "Epoch 61/200\n",
            "20/20 [==============================] - 0s 8ms/step - loss: 0.6555 - accuracy: 0.6368 - val_loss: 0.6153 - val_accuracy: 0.7078\n",
            "Epoch 62/200\n",
            "20/20 [==============================] - 0s 6ms/step - loss: 0.6560 - accuracy: 0.6368 - val_loss: 0.6156 - val_accuracy: 0.7078\n",
            "Epoch 63/200\n",
            "20/20 [==============================] - 0s 7ms/step - loss: 0.6559 - accuracy: 0.6368 - val_loss: 0.6152 - val_accuracy: 0.7078\n",
            "Epoch 64/200\n",
            "20/20 [==============================] - 0s 7ms/step - loss: 0.6560 - accuracy: 0.6368 - val_loss: 0.6157 - val_accuracy: 0.7078\n",
            "Epoch 65/200\n",
            "20/20 [==============================] - 0s 7ms/step - loss: 0.6527 - accuracy: 0.6368 - val_loss: 0.6154 - val_accuracy: 0.7078\n",
            "Epoch 66/200\n",
            "20/20 [==============================] - 0s 8ms/step - loss: 0.6552 - accuracy: 0.6368 - val_loss: 0.6152 - val_accuracy: 0.7078\n",
            "Epoch 67/200\n",
            "20/20 [==============================] - 0s 7ms/step - loss: 0.6568 - accuracy: 0.6368 - val_loss: 0.6153 - val_accuracy: 0.7078\n",
            "Epoch 68/200\n",
            "20/20 [==============================] - 0s 8ms/step - loss: 0.6567 - accuracy: 0.6368 - val_loss: 0.6152 - val_accuracy: 0.7078\n",
            "Epoch 69/200\n",
            "20/20 [==============================] - 0s 7ms/step - loss: 0.6559 - accuracy: 0.6368 - val_loss: 0.6152 - val_accuracy: 0.7078\n",
            "Epoch 70/200\n",
            "20/20 [==============================] - 0s 7ms/step - loss: 0.6561 - accuracy: 0.6368 - val_loss: 0.6150 - val_accuracy: 0.7078\n",
            "Epoch 71/200\n",
            "20/20 [==============================] - 0s 7ms/step - loss: 0.6573 - accuracy: 0.6368 - val_loss: 0.6148 - val_accuracy: 0.7078\n",
            "Epoch 72/200\n",
            "20/20 [==============================] - 0s 7ms/step - loss: 0.6545 - accuracy: 0.6368 - val_loss: 0.6149 - val_accuracy: 0.7078\n",
            "Epoch 73/200\n",
            "20/20 [==============================] - 0s 7ms/step - loss: 0.6560 - accuracy: 0.6368 - val_loss: 0.6152 - val_accuracy: 0.7078\n",
            "Epoch 74/200\n",
            "20/20 [==============================] - 0s 7ms/step - loss: 0.6566 - accuracy: 0.6368 - val_loss: 0.6152 - val_accuracy: 0.7078\n",
            "Epoch 75/200\n",
            "20/20 [==============================] - 0s 7ms/step - loss: 0.6539 - accuracy: 0.6368 - val_loss: 0.6150 - val_accuracy: 0.7078\n",
            "Epoch 76/200\n",
            "20/20 [==============================] - 0s 7ms/step - loss: 0.6544 - accuracy: 0.6368 - val_loss: 0.6150 - val_accuracy: 0.7078\n",
            "Epoch 77/200\n",
            "20/20 [==============================] - 0s 7ms/step - loss: 0.6565 - accuracy: 0.6368 - val_loss: 0.6149 - val_accuracy: 0.7078\n",
            "Epoch 78/200\n",
            "20/20 [==============================] - 0s 9ms/step - loss: 0.6537 - accuracy: 0.6368 - val_loss: 0.6150 - val_accuracy: 0.7078\n",
            "Epoch 79/200\n",
            "20/20 [==============================] - 0s 7ms/step - loss: 0.6569 - accuracy: 0.6368 - val_loss: 0.6148 - val_accuracy: 0.7078\n",
            "Epoch 80/200\n",
            "20/20 [==============================] - 0s 8ms/step - loss: 0.6548 - accuracy: 0.6368 - val_loss: 0.6149 - val_accuracy: 0.7078\n",
            "Epoch 81/200\n",
            "20/20 [==============================] - 0s 8ms/step - loss: 0.6556 - accuracy: 0.6368 - val_loss: 0.6152 - val_accuracy: 0.7078\n",
            "Epoch 82/200\n",
            "20/20 [==============================] - 0s 7ms/step - loss: 0.6539 - accuracy: 0.6368 - val_loss: 0.6152 - val_accuracy: 0.7078\n",
            "Epoch 83/200\n",
            "20/20 [==============================] - 0s 7ms/step - loss: 0.6559 - accuracy: 0.6368 - val_loss: 0.6151 - val_accuracy: 0.7078\n",
            "Epoch 84/200\n",
            "20/20 [==============================] - 0s 7ms/step - loss: 0.6558 - accuracy: 0.6368 - val_loss: 0.6151 - val_accuracy: 0.7078\n",
            "Epoch 85/200\n",
            "20/20 [==============================] - 0s 7ms/step - loss: 0.6560 - accuracy: 0.6368 - val_loss: 0.6155 - val_accuracy: 0.7078\n",
            "Epoch 86/200\n",
            "20/20 [==============================] - 0s 7ms/step - loss: 0.6535 - accuracy: 0.6368 - val_loss: 0.6153 - val_accuracy: 0.7078\n",
            "Epoch 87/200\n",
            "20/20 [==============================] - 0s 7ms/step - loss: 0.6557 - accuracy: 0.6368 - val_loss: 0.6154 - val_accuracy: 0.7078\n",
            "Epoch 88/200\n",
            "20/20 [==============================] - 0s 7ms/step - loss: 0.6561 - accuracy: 0.6368 - val_loss: 0.6151 - val_accuracy: 0.7078\n",
            "Epoch 89/200\n",
            "20/20 [==============================] - 0s 7ms/step - loss: 0.6557 - accuracy: 0.6368 - val_loss: 0.6151 - val_accuracy: 0.7078\n",
            "Epoch 90/200\n",
            "20/20 [==============================] - 0s 4ms/step - loss: 0.6562 - accuracy: 0.6368 - val_loss: 0.6152 - val_accuracy: 0.7078\n",
            "Epoch 91/200\n",
            "20/20 [==============================] - 0s 5ms/step - loss: 0.6573 - accuracy: 0.6368 - val_loss: 0.6151 - val_accuracy: 0.7078\n",
            "Epoch 92/200\n",
            "20/20 [==============================] - 0s 4ms/step - loss: 0.6531 - accuracy: 0.6368 - val_loss: 0.6151 - val_accuracy: 0.7078\n",
            "Epoch 93/200\n",
            "20/20 [==============================] - 0s 5ms/step - loss: 0.6566 - accuracy: 0.6352 - val_loss: 0.6150 - val_accuracy: 0.7078\n",
            "Epoch 94/200\n",
            "20/20 [==============================] - 0s 5ms/step - loss: 0.6536 - accuracy: 0.6368 - val_loss: 0.6149 - val_accuracy: 0.7078\n",
            "Epoch 95/200\n",
            "20/20 [==============================] - 0s 4ms/step - loss: 0.6553 - accuracy: 0.6368 - val_loss: 0.6148 - val_accuracy: 0.7078\n",
            "Epoch 96/200\n",
            "20/20 [==============================] - 0s 4ms/step - loss: 0.6517 - accuracy: 0.6368 - val_loss: 0.6145 - val_accuracy: 0.7078\n",
            "Epoch 97/200\n",
            "20/20 [==============================] - 0s 4ms/step - loss: 0.6551 - accuracy: 0.6368 - val_loss: 0.6143 - val_accuracy: 0.7078\n",
            "Epoch 98/200\n",
            "20/20 [==============================] - 0s 5ms/step - loss: 0.6573 - accuracy: 0.6368 - val_loss: 0.6144 - val_accuracy: 0.7078\n",
            "Epoch 99/200\n",
            "20/20 [==============================] - 0s 5ms/step - loss: 0.6555 - accuracy: 0.6368 - val_loss: 0.6150 - val_accuracy: 0.7078\n",
            "Epoch 100/200\n",
            "20/20 [==============================] - 0s 4ms/step - loss: 0.6565 - accuracy: 0.6368 - val_loss: 0.6149 - val_accuracy: 0.7078\n",
            "Epoch 101/200\n",
            "20/20 [==============================] - 0s 4ms/step - loss: 0.6544 - accuracy: 0.6368 - val_loss: 0.6151 - val_accuracy: 0.7078\n",
            "Epoch 102/200\n",
            "20/20 [==============================] - 0s 4ms/step - loss: 0.6561 - accuracy: 0.6368 - val_loss: 0.6151 - val_accuracy: 0.7078\n",
            "Epoch 103/200\n",
            "20/20 [==============================] - 0s 5ms/step - loss: 0.6539 - accuracy: 0.6352 - val_loss: 0.6151 - val_accuracy: 0.7078\n",
            "Epoch 104/200\n",
            "20/20 [==============================] - 0s 5ms/step - loss: 0.6558 - accuracy: 0.6368 - val_loss: 0.6148 - val_accuracy: 0.7078\n",
            "Epoch 105/200\n",
            "20/20 [==============================] - 0s 4ms/step - loss: 0.6562 - accuracy: 0.6368 - val_loss: 0.6147 - val_accuracy: 0.7078\n",
            "Epoch 106/200\n",
            "20/20 [==============================] - 0s 4ms/step - loss: 0.6541 - accuracy: 0.6368 - val_loss: 0.6146 - val_accuracy: 0.7078\n",
            "Epoch 107/200\n",
            "20/20 [==============================] - 0s 5ms/step - loss: 0.6543 - accuracy: 0.6368 - val_loss: 0.6148 - val_accuracy: 0.7078\n",
            "Epoch 108/200\n",
            "20/20 [==============================] - 0s 5ms/step - loss: 0.6554 - accuracy: 0.6368 - val_loss: 0.6149 - val_accuracy: 0.7078\n",
            "Epoch 109/200\n",
            "20/20 [==============================] - 0s 5ms/step - loss: 0.6559 - accuracy: 0.6368 - val_loss: 0.6150 - val_accuracy: 0.7078\n",
            "Epoch 110/200\n",
            "20/20 [==============================] - 0s 4ms/step - loss: 0.6551 - accuracy: 0.6368 - val_loss: 0.6150 - val_accuracy: 0.7078\n",
            "Epoch 111/200\n",
            "20/20 [==============================] - 0s 4ms/step - loss: 0.6552 - accuracy: 0.6368 - val_loss: 0.6151 - val_accuracy: 0.7078\n",
            "Epoch 112/200\n",
            "20/20 [==============================] - 0s 5ms/step - loss: 0.6548 - accuracy: 0.6368 - val_loss: 0.6147 - val_accuracy: 0.7078\n",
            "Epoch 113/200\n",
            "20/20 [==============================] - 0s 5ms/step - loss: 0.6533 - accuracy: 0.6368 - val_loss: 0.6146 - val_accuracy: 0.7078\n",
            "Epoch 114/200\n",
            "20/20 [==============================] - 0s 5ms/step - loss: 0.6540 - accuracy: 0.6368 - val_loss: 0.6147 - val_accuracy: 0.7078\n",
            "Epoch 115/200\n",
            "20/20 [==============================] - 0s 4ms/step - loss: 0.6534 - accuracy: 0.6368 - val_loss: 0.6146 - val_accuracy: 0.7078\n",
            "Epoch 116/200\n",
            "20/20 [==============================] - 0s 4ms/step - loss: 0.6560 - accuracy: 0.6368 - val_loss: 0.6146 - val_accuracy: 0.7078\n",
            "Epoch 117/200\n",
            "20/20 [==============================] - 0s 4ms/step - loss: 0.6572 - accuracy: 0.6368 - val_loss: 0.6148 - val_accuracy: 0.7078\n",
            "Epoch 118/200\n",
            "20/20 [==============================] - 0s 5ms/step - loss: 0.6568 - accuracy: 0.6368 - val_loss: 0.6149 - val_accuracy: 0.7078\n",
            "Epoch 119/200\n",
            "20/20 [==============================] - 0s 5ms/step - loss: 0.6557 - accuracy: 0.6368 - val_loss: 0.6149 - val_accuracy: 0.7078\n",
            "Epoch 120/200\n",
            "20/20 [==============================] - 0s 5ms/step - loss: 0.6562 - accuracy: 0.6368 - val_loss: 0.6151 - val_accuracy: 0.7078\n",
            "Epoch 121/200\n",
            "20/20 [==============================] - 0s 4ms/step - loss: 0.6569 - accuracy: 0.6368 - val_loss: 0.6148 - val_accuracy: 0.7078\n",
            "Epoch 122/200\n",
            "20/20 [==============================] - 0s 4ms/step - loss: 0.6551 - accuracy: 0.6368 - val_loss: 0.6146 - val_accuracy: 0.7078\n",
            "Epoch 123/200\n",
            "20/20 [==============================] - 0s 4ms/step - loss: 0.6578 - accuracy: 0.6368 - val_loss: 0.6150 - val_accuracy: 0.7078\n",
            "Epoch 124/200\n",
            "20/20 [==============================] - 0s 6ms/step - loss: 0.6552 - accuracy: 0.6368 - val_loss: 0.6152 - val_accuracy: 0.7078\n",
            "Epoch 125/200\n",
            "20/20 [==============================] - 0s 4ms/step - loss: 0.6544 - accuracy: 0.6368 - val_loss: 0.6151 - val_accuracy: 0.7078\n",
            "Epoch 126/200\n",
            "20/20 [==============================] - 0s 5ms/step - loss: 0.6536 - accuracy: 0.6368 - val_loss: 0.6151 - val_accuracy: 0.7078\n",
            "Epoch 127/200\n",
            "20/20 [==============================] - 0s 6ms/step - loss: 0.6560 - accuracy: 0.6368 - val_loss: 0.6152 - val_accuracy: 0.7078\n",
            "Epoch 128/200\n",
            "20/20 [==============================] - 0s 4ms/step - loss: 0.6555 - accuracy: 0.6368 - val_loss: 0.6151 - val_accuracy: 0.7078\n",
            "Epoch 129/200\n",
            "20/20 [==============================] - 0s 6ms/step - loss: 0.6561 - accuracy: 0.6368 - val_loss: 0.6151 - val_accuracy: 0.7078\n",
            "Epoch 130/200\n",
            "20/20 [==============================] - 0s 4ms/step - loss: 0.6547 - accuracy: 0.6368 - val_loss: 0.6151 - val_accuracy: 0.7078\n",
            "Epoch 131/200\n",
            "20/20 [==============================] - 0s 4ms/step - loss: 0.6555 - accuracy: 0.6368 - val_loss: 0.6149 - val_accuracy: 0.7078\n",
            "Epoch 132/200\n",
            "20/20 [==============================] - 0s 5ms/step - loss: 0.6552 - accuracy: 0.6368 - val_loss: 0.6150 - val_accuracy: 0.7078\n",
            "Epoch 133/200\n",
            "20/20 [==============================] - 0s 5ms/step - loss: 0.6543 - accuracy: 0.6368 - val_loss: 0.6151 - val_accuracy: 0.7078\n",
            "Epoch 134/200\n",
            "20/20 [==============================] - 0s 4ms/step - loss: 0.6570 - accuracy: 0.6368 - val_loss: 0.6154 - val_accuracy: 0.7078\n",
            "Epoch 135/200\n",
            "20/20 [==============================] - 0s 4ms/step - loss: 0.6568 - accuracy: 0.6368 - val_loss: 0.6157 - val_accuracy: 0.7078\n",
            "Epoch 136/200\n",
            "20/20 [==============================] - 0s 5ms/step - loss: 0.6555 - accuracy: 0.6368 - val_loss: 0.6156 - val_accuracy: 0.7078\n",
            "Epoch 137/200\n",
            "20/20 [==============================] - 0s 5ms/step - loss: 0.6564 - accuracy: 0.6368 - val_loss: 0.6157 - val_accuracy: 0.7078\n",
            "Epoch 138/200\n",
            "20/20 [==============================] - 0s 4ms/step - loss: 0.6551 - accuracy: 0.6368 - val_loss: 0.6157 - val_accuracy: 0.7078\n",
            "Epoch 139/200\n",
            "20/20 [==============================] - 0s 5ms/step - loss: 0.6544 - accuracy: 0.6368 - val_loss: 0.6155 - val_accuracy: 0.7078\n",
            "Epoch 140/200\n",
            "20/20 [==============================] - 0s 5ms/step - loss: 0.6539 - accuracy: 0.6368 - val_loss: 0.6155 - val_accuracy: 0.7078\n",
            "Epoch 141/200\n",
            "20/20 [==============================] - 0s 5ms/step - loss: 0.6565 - accuracy: 0.6352 - val_loss: 0.6153 - val_accuracy: 0.7078\n",
            "Epoch 142/200\n",
            "20/20 [==============================] - 0s 4ms/step - loss: 0.6557 - accuracy: 0.6368 - val_loss: 0.6151 - val_accuracy: 0.7078\n",
            "Epoch 143/200\n",
            "20/20 [==============================] - 0s 4ms/step - loss: 0.6535 - accuracy: 0.6368 - val_loss: 0.6149 - val_accuracy: 0.7078\n",
            "Epoch 144/200\n",
            "20/20 [==============================] - 0s 4ms/step - loss: 0.6556 - accuracy: 0.6368 - val_loss: 0.6147 - val_accuracy: 0.7078\n",
            "Epoch 145/200\n",
            "20/20 [==============================] - 0s 5ms/step - loss: 0.6559 - accuracy: 0.6368 - val_loss: 0.6148 - val_accuracy: 0.7078\n",
            "Epoch 146/200\n",
            "20/20 [==============================] - 0s 5ms/step - loss: 0.6544 - accuracy: 0.6368 - val_loss: 0.6148 - val_accuracy: 0.7078\n",
            "Epoch 147/200\n",
            "20/20 [==============================] - 0s 5ms/step - loss: 0.6557 - accuracy: 0.6368 - val_loss: 0.6146 - val_accuracy: 0.7078\n",
            "Epoch 148/200\n",
            "20/20 [==============================] - 0s 4ms/step - loss: 0.6550 - accuracy: 0.6368 - val_loss: 0.6142 - val_accuracy: 0.7078\n",
            "Epoch 149/200\n",
            "20/20 [==============================] - 0s 4ms/step - loss: 0.6547 - accuracy: 0.6368 - val_loss: 0.6145 - val_accuracy: 0.7078\n",
            "Epoch 150/200\n",
            "20/20 [==============================] - 0s 5ms/step - loss: 0.6573 - accuracy: 0.6368 - val_loss: 0.6149 - val_accuracy: 0.7078\n",
            "Epoch 151/200\n",
            "20/20 [==============================] - 0s 4ms/step - loss: 0.6545 - accuracy: 0.6368 - val_loss: 0.6152 - val_accuracy: 0.7078\n",
            "Epoch 152/200\n",
            "20/20 [==============================] - 0s 5ms/step - loss: 0.6572 - accuracy: 0.6352 - val_loss: 0.6151 - val_accuracy: 0.7078\n",
            "Epoch 153/200\n",
            "20/20 [==============================] - 0s 5ms/step - loss: 0.6558 - accuracy: 0.6368 - val_loss: 0.6150 - val_accuracy: 0.7078\n",
            "Epoch 154/200\n",
            "20/20 [==============================] - 0s 4ms/step - loss: 0.6540 - accuracy: 0.6384 - val_loss: 0.6150 - val_accuracy: 0.7078\n",
            "Epoch 155/200\n",
            "20/20 [==============================] - 0s 5ms/step - loss: 0.6557 - accuracy: 0.6368 - val_loss: 0.6147 - val_accuracy: 0.7078\n",
            "Epoch 156/200\n",
            "20/20 [==============================] - 0s 5ms/step - loss: 0.6551 - accuracy: 0.6368 - val_loss: 0.6146 - val_accuracy: 0.7078\n",
            "Epoch 157/200\n",
            "20/20 [==============================] - 0s 4ms/step - loss: 0.6528 - accuracy: 0.6368 - val_loss: 0.6146 - val_accuracy: 0.7078\n",
            "Epoch 158/200\n",
            "20/20 [==============================] - 0s 5ms/step - loss: 0.6558 - accuracy: 0.6368 - val_loss: 0.6144 - val_accuracy: 0.7078\n",
            "Epoch 159/200\n",
            "20/20 [==============================] - 0s 5ms/step - loss: 0.6548 - accuracy: 0.6368 - val_loss: 0.6144 - val_accuracy: 0.7078\n",
            "Epoch 160/200\n",
            "20/20 [==============================] - 0s 5ms/step - loss: 0.6552 - accuracy: 0.6368 - val_loss: 0.6145 - val_accuracy: 0.7078\n",
            "Epoch 161/200\n",
            "20/20 [==============================] - 0s 4ms/step - loss: 0.6554 - accuracy: 0.6368 - val_loss: 0.6144 - val_accuracy: 0.7078\n",
            "Epoch 162/200\n",
            "20/20 [==============================] - 0s 4ms/step - loss: 0.6532 - accuracy: 0.6368 - val_loss: 0.6143 - val_accuracy: 0.7078\n",
            "Epoch 163/200\n",
            "20/20 [==============================] - 0s 4ms/step - loss: 0.6554 - accuracy: 0.6368 - val_loss: 0.6142 - val_accuracy: 0.7078\n",
            "Epoch 164/200\n",
            "20/20 [==============================] - 0s 5ms/step - loss: 0.6548 - accuracy: 0.6368 - val_loss: 0.6142 - val_accuracy: 0.7078\n",
            "Epoch 165/200\n",
            "20/20 [==============================] - 0s 4ms/step - loss: 0.6556 - accuracy: 0.6368 - val_loss: 0.6142 - val_accuracy: 0.7078\n",
            "Epoch 166/200\n",
            "20/20 [==============================] - 0s 4ms/step - loss: 0.6553 - accuracy: 0.6368 - val_loss: 0.6141 - val_accuracy: 0.7078\n",
            "Epoch 167/200\n",
            "20/20 [==============================] - 0s 5ms/step - loss: 0.6540 - accuracy: 0.6368 - val_loss: 0.6142 - val_accuracy: 0.7078\n",
            "Epoch 168/200\n",
            "20/20 [==============================] - 0s 6ms/step - loss: 0.6550 - accuracy: 0.6368 - val_loss: 0.6142 - val_accuracy: 0.7078\n",
            "Epoch 169/200\n",
            "20/20 [==============================] - 0s 5ms/step - loss: 0.6564 - accuracy: 0.6368 - val_loss: 0.6144 - val_accuracy: 0.7078\n",
            "Epoch 170/200\n",
            "20/20 [==============================] - 0s 5ms/step - loss: 0.6552 - accuracy: 0.6368 - val_loss: 0.6145 - val_accuracy: 0.7078\n",
            "Epoch 171/200\n",
            "20/20 [==============================] - 0s 5ms/step - loss: 0.6546 - accuracy: 0.6384 - val_loss: 0.6145 - val_accuracy: 0.7078\n",
            "Epoch 172/200\n",
            "20/20 [==============================] - 0s 4ms/step - loss: 0.6560 - accuracy: 0.6368 - val_loss: 0.6146 - val_accuracy: 0.7078\n",
            "Epoch 173/200\n",
            "20/20 [==============================] - 0s 5ms/step - loss: 0.6550 - accuracy: 0.6368 - val_loss: 0.6146 - val_accuracy: 0.7078\n",
            "Epoch 174/200\n",
            "20/20 [==============================] - 0s 4ms/step - loss: 0.6551 - accuracy: 0.6368 - val_loss: 0.6144 - val_accuracy: 0.7078\n",
            "Epoch 175/200\n",
            "20/20 [==============================] - 0s 6ms/step - loss: 0.6547 - accuracy: 0.6368 - val_loss: 0.6142 - val_accuracy: 0.7078\n",
            "Epoch 176/200\n",
            "20/20 [==============================] - 0s 4ms/step - loss: 0.6548 - accuracy: 0.6368 - val_loss: 0.6143 - val_accuracy: 0.7078\n",
            "Epoch 177/200\n",
            "20/20 [==============================] - 0s 5ms/step - loss: 0.6559 - accuracy: 0.6368 - val_loss: 0.6144 - val_accuracy: 0.7078\n",
            "Epoch 178/200\n",
            "20/20 [==============================] - 0s 5ms/step - loss: 0.6543 - accuracy: 0.6368 - val_loss: 0.6142 - val_accuracy: 0.7078\n",
            "Epoch 179/200\n",
            "20/20 [==============================] - 0s 5ms/step - loss: 0.6549 - accuracy: 0.6368 - val_loss: 0.6141 - val_accuracy: 0.7078\n",
            "Epoch 180/200\n",
            "20/20 [==============================] - 0s 6ms/step - loss: 0.6568 - accuracy: 0.6368 - val_loss: 0.6146 - val_accuracy: 0.7078\n",
            "Epoch 181/200\n",
            "20/20 [==============================] - 0s 5ms/step - loss: 0.6553 - accuracy: 0.6368 - val_loss: 0.6143 - val_accuracy: 0.7078\n",
            "Epoch 182/200\n",
            "20/20 [==============================] - 0s 5ms/step - loss: 0.6557 - accuracy: 0.6368 - val_loss: 0.6145 - val_accuracy: 0.7078\n",
            "Epoch 183/200\n",
            "20/20 [==============================] - 0s 4ms/step - loss: 0.6557 - accuracy: 0.6368 - val_loss: 0.6146 - val_accuracy: 0.7078\n",
            "Epoch 184/200\n",
            "20/20 [==============================] - 0s 5ms/step - loss: 0.6579 - accuracy: 0.6368 - val_loss: 0.6148 - val_accuracy: 0.7078\n",
            "Epoch 185/200\n",
            "20/20 [==============================] - 0s 5ms/step - loss: 0.6565 - accuracy: 0.6368 - val_loss: 0.6146 - val_accuracy: 0.7078\n",
            "Epoch 186/200\n",
            "20/20 [==============================] - 0s 5ms/step - loss: 0.6560 - accuracy: 0.6352 - val_loss: 0.6144 - val_accuracy: 0.7078\n",
            "Epoch 187/200\n",
            "20/20 [==============================] - 0s 4ms/step - loss: 0.6542 - accuracy: 0.6352 - val_loss: 0.6143 - val_accuracy: 0.7078\n",
            "Epoch 188/200\n",
            "20/20 [==============================] - 0s 7ms/step - loss: 0.6568 - accuracy: 0.6368 - val_loss: 0.6144 - val_accuracy: 0.7078\n",
            "Epoch 189/200\n",
            "20/20 [==============================] - 0s 7ms/step - loss: 0.6552 - accuracy: 0.6368 - val_loss: 0.6140 - val_accuracy: 0.7078\n",
            "Epoch 190/200\n",
            "20/20 [==============================] - 0s 7ms/step - loss: 0.6553 - accuracy: 0.6368 - val_loss: 0.6138 - val_accuracy: 0.7078\n",
            "Epoch 191/200\n",
            "20/20 [==============================] - 0s 8ms/step - loss: 0.6545 - accuracy: 0.6368 - val_loss: 0.6139 - val_accuracy: 0.7078\n",
            "Epoch 192/200\n",
            "20/20 [==============================] - 0s 6ms/step - loss: 0.6555 - accuracy: 0.6368 - val_loss: 0.6138 - val_accuracy: 0.7078\n",
            "Epoch 193/200\n",
            "20/20 [==============================] - 0s 7ms/step - loss: 0.6545 - accuracy: 0.6368 - val_loss: 0.6137 - val_accuracy: 0.7078\n",
            "Epoch 194/200\n",
            "20/20 [==============================] - 0s 7ms/step - loss: 0.6557 - accuracy: 0.6368 - val_loss: 0.6138 - val_accuracy: 0.7078\n",
            "Epoch 195/200\n",
            "20/20 [==============================] - 0s 6ms/step - loss: 0.6542 - accuracy: 0.6368 - val_loss: 0.6135 - val_accuracy: 0.7078\n",
            "Epoch 196/200\n",
            "20/20 [==============================] - 0s 9ms/step - loss: 0.6542 - accuracy: 0.6368 - val_loss: 0.6135 - val_accuracy: 0.7078\n",
            "Epoch 197/200\n",
            "20/20 [==============================] - 0s 7ms/step - loss: 0.6537 - accuracy: 0.6384 - val_loss: 0.6137 - val_accuracy: 0.7078\n",
            "Epoch 198/200\n",
            "20/20 [==============================] - 0s 7ms/step - loss: 0.6549 - accuracy: 0.6352 - val_loss: 0.6136 - val_accuracy: 0.7078\n",
            "Epoch 199/200\n",
            "20/20 [==============================] - 0s 6ms/step - loss: 0.6556 - accuracy: 0.6368 - val_loss: 0.6135 - val_accuracy: 0.7078\n",
            "Epoch 200/200\n",
            "20/20 [==============================] - 0s 7ms/step - loss: 0.6564 - accuracy: 0.6368 - val_loss: 0.6136 - val_accuracy: 0.7078\n"
          ]
        },
        {
          "output_type": "execute_result",
          "data": {
            "text/plain": [
              "<keras.callbacks.History at 0x7d59d61ddb70>"
            ]
          },
          "metadata": {},
          "execution_count": 55
        }
      ]
    },
    {
      "cell_type": "code",
      "source": [],
      "metadata": {
        "id": "6u-oAIFZj9Sz"
      },
      "execution_count": 55,
      "outputs": []
    }
  ]
}